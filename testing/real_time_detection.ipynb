{
 "cells": [
  {
   "cell_type": "markdown",
   "metadata": {},
   "source": [
    "### Analyze how the detection and classification do on pre-labeled videos\n",
    "\n",
    "* We curated the data manually\n",
    "* Set out to test on videos after reasonable optimization trying out the real time (live stream) for ouselves"
   ]
  },
  {
   "cell_type": "code",
   "execution_count": 12,
   "metadata": {},
   "outputs": [],
   "source": [
    "import sys\n",
    "sys.path.insert(0, '/Users/alejandraduran/Documents/Pton_courses/COS429/COS429_final_project/training_pipeline')\n",
    "\n",
    "import cv2\n",
    "import mediapipe as mp\n",
    "import pickle\n",
    "from extract_features import FeaturesMP\n",
    "import numpy as np\n",
    "import time\n",
    "from mediapipe import solutions\n",
    "from mediapipe.framework.formats import landmark_pb2"
   ]
  },
  {
   "cell_type": "code",
   "execution_count": 17,
   "metadata": {},
   "outputs": [
    {
     "name": "stderr",
     "output_type": "stream",
     "text": [
      "I0000 00:00:1733942484.594167 90598226 gl_context.cc:357] GL version: 2.1 (2.1 Metal - 86), renderer: Apple M1\n"
     ]
    }
   ],
   "source": [
    "# Retrieve pre-trained model\n",
    "mp_model_path = \"/Users/alejandraduran/Documents/Pton_courses/COS429/COS429_final_project/pretrained_models/pose_landmarker_full.task\"\n",
    "# Initialize FeaturesMP object\n",
    "features_mp = FeaturesMP(mp_model_path, image_size=(1080, 1920))\n",
    "# Initialize detector\n",
    "features_mp.init_detector(video=True, min_pose_detection_confidence=0.7)#, double=True)\n",
    "# load the label encoder\n",
    "with open('/Users/alejandraduran/Documents/Pton_courses/COS429/COS429_final_project/training_pipeline/label_encoder.pkl', 'rb') as f:    \n",
    "    label_encoder = pickle.load(f)\n",
    "\n",
    "# load the trained classifier\n",
    "with open('/Users/alejandraduran/Documents/Pton_courses/COS429/COS429_final_project/trained_classifiers/padded_nn_7.pkl', 'rb') as f:\n",
    "    classifier = pickle.load(f)\n",
    "    \n",
    "# load the sanskrit to english dictionary\n",
    "with open('/Users/alejandraduran/Documents/Pton_courses/COS429/COS429_final_project/sanskrit_english_dict.pkl', 'rb') as f:\n",
    "    sanskrit_english_dict = pickle.load(f)\n",
    "    \n",
    "# introduce delay in position predictions\n",
    "buffer = [-1,-1,-1,-1]\n",
    "\n",
    "# Define text properties\n",
    "font = cv2.FONT_HERSHEY_SIMPLEX\n",
    "font_scale = 3\n",
    "font_thickness = 4\n",
    "text_color = (255, 255, 255)  # White color\n",
    "bg_color = (0, 0, 0)  # Black color for background rectangle\n",
    "bg_opacity = 0.6  # Background opacity\n",
    "coords = (50, 100)  # Coordinates to display the text\n",
    "text = \"Starting pose detection...\""
   ]
  },
  {
   "cell_type": "code",
   "execution_count": 28,
   "metadata": {},
   "outputs": [
    {
     "ename": "ValueError",
     "evalue": "Input timestamp must be monotonically increasing.",
     "output_type": "error",
     "traceback": [
      "\u001b[0;31m---------------------------------------------------------------------------\u001b[0m",
      "\u001b[0;31mValueError\u001b[0m                                Traceback (most recent call last)",
      "Cell \u001b[0;32mIn[28], line 24\u001b[0m\n\u001b[1;32m     20\u001b[0m     \u001b[38;5;28;01mbreak\u001b[39;00m\n\u001b[1;32m     22\u001b[0m \u001b[38;5;66;03m# Run inference on the image \u001b[39;00m\n\u001b[1;32m     23\u001b[0m \u001b[38;5;66;03m# uncomment if double: landmarks_draw, landmarks = features_mp.detect(frame, live_stream=True, frame_timestamp_ms=timestamp, double=True)\u001b[39;00m\n\u001b[0;32m---> 24\u001b[0m landmarks \u001b[38;5;241m=\u001b[39m \u001b[43mfeatures_mp\u001b[49m\u001b[38;5;241;43m.\u001b[39;49m\u001b[43mdetect\u001b[49m\u001b[43m(\u001b[49m\u001b[43mframe\u001b[49m\u001b[43m,\u001b[49m\u001b[43m \u001b[49m\u001b[43mvideo\u001b[49m\u001b[38;5;241;43m=\u001b[39;49m\u001b[38;5;28;43;01mTrue\u001b[39;49;00m\u001b[43m,\u001b[49m\u001b[43m \u001b[49m\u001b[43mframe_timestamp_ms\u001b[49m\u001b[38;5;241;43m=\u001b[39;49m\u001b[43mtimestamp\u001b[49m\u001b[43m)\u001b[49m\n\u001b[1;32m     26\u001b[0m \u001b[38;5;66;03m# Draw landmarks if detected\u001b[39;00m\n\u001b[1;32m     27\u001b[0m \u001b[38;5;28;01mif\u001b[39;00m landmarks \u001b[38;5;129;01mis\u001b[39;00m \u001b[38;5;129;01mnot\u001b[39;00m \u001b[38;5;28;01mNone\u001b[39;00m: \u001b[38;5;66;03m# uncomment if double: and landmarks_draw is not None:  \u001b[39;00m\n",
      "File \u001b[0;32m~/Documents/Pton_courses/COS429/COS429_final_project/training_pipeline/extract_features.py:120\u001b[0m, in \u001b[0;36mFeaturesMP.detect\u001b[0;34m(self, frame, video, video_fps, live_stream, frame_timestamp_ms, double)\u001b[0m\n\u001b[1;32m    117\u001b[0m mp_image \u001b[38;5;241m=\u001b[39m mp\u001b[38;5;241m.\u001b[39mImage(image_format\u001b[38;5;241m=\u001b[39mmp\u001b[38;5;241m.\u001b[39mImageFormat\u001b[38;5;241m.\u001b[39mSRGB, data\u001b[38;5;241m=\u001b[39mframe)\n\u001b[1;32m    119\u001b[0m \u001b[38;5;28;01mif\u001b[39;00m video:\n\u001b[0;32m--> 120\u001b[0m     \u001b[38;5;28;01mreturn\u001b[39;00m \u001b[38;5;28;43mself\u001b[39;49m\u001b[38;5;241;43m.\u001b[39;49m\u001b[43mdetector\u001b[49m\u001b[38;5;241;43m.\u001b[39;49m\u001b[43mdetect_for_video\u001b[49m\u001b[43m(\u001b[49m\u001b[43mmp_image\u001b[49m\u001b[43m,\u001b[49m\u001b[43m \u001b[49m\u001b[43mvideo_fps\u001b[49m\u001b[43m)\u001b[49m\n\u001b[1;32m    122\u001b[0m \u001b[38;5;28;01melif\u001b[39;00m live_stream:\n\u001b[1;32m    123\u001b[0m     \u001b[38;5;28;01mif\u001b[39;00m double:\n",
      "File \u001b[0;32m~/opt/anaconda3/envs/cos429/lib/python3.8/site-packages/mediapipe/tasks/python/vision/pose_landmarker.py:395\u001b[0m, in \u001b[0;36mPoseLandmarker.detect_for_video\u001b[0;34m(self, image, timestamp_ms, image_processing_options)\u001b[0m\n\u001b[1;32m    370\u001b[0m \u001b[38;5;250m\u001b[39m\u001b[38;5;124;03m\"\"\"Performs pose landmarks detection on the provided video frame.\u001b[39;00m\n\u001b[1;32m    371\u001b[0m \n\u001b[1;32m    372\u001b[0m \u001b[38;5;124;03mOnly use this method when the PoseLandmarker is created with the video\u001b[39;00m\n\u001b[0;32m   (...)\u001b[0m\n\u001b[1;32m    390\u001b[0m \u001b[38;5;124;03m  RuntimeError: If pose landmarker detection failed to run.\u001b[39;00m\n\u001b[1;32m    391\u001b[0m \u001b[38;5;124;03m\"\"\"\u001b[39;00m\n\u001b[1;32m    392\u001b[0m normalized_rect \u001b[38;5;241m=\u001b[39m \u001b[38;5;28mself\u001b[39m\u001b[38;5;241m.\u001b[39mconvert_to_normalized_rect(\n\u001b[1;32m    393\u001b[0m     image_processing_options, image, roi_allowed\u001b[38;5;241m=\u001b[39m\u001b[38;5;28;01mFalse\u001b[39;00m\n\u001b[1;32m    394\u001b[0m )\n\u001b[0;32m--> 395\u001b[0m output_packets \u001b[38;5;241m=\u001b[39m \u001b[38;5;28;43mself\u001b[39;49m\u001b[38;5;241;43m.\u001b[39;49m\u001b[43m_process_video_data\u001b[49m\u001b[43m(\u001b[49m\u001b[43m{\u001b[49m\n\u001b[1;32m    396\u001b[0m \u001b[43m    \u001b[49m\u001b[43m_IMAGE_IN_STREAM_NAME\u001b[49m\u001b[43m:\u001b[49m\u001b[43m \u001b[49m\u001b[43mpacket_creator\u001b[49m\u001b[38;5;241;43m.\u001b[39;49m\u001b[43mcreate_image\u001b[49m\u001b[43m(\u001b[49m\u001b[43mimage\u001b[49m\u001b[43m)\u001b[49m\u001b[38;5;241;43m.\u001b[39;49m\u001b[43mat\u001b[49m\u001b[43m(\u001b[49m\n\u001b[1;32m    397\u001b[0m \u001b[43m        \u001b[49m\u001b[43mtimestamp_ms\u001b[49m\u001b[43m \u001b[49m\u001b[38;5;241;43m*\u001b[39;49m\u001b[43m \u001b[49m\u001b[43m_MICRO_SECONDS_PER_MILLISECOND\u001b[49m\n\u001b[1;32m    398\u001b[0m \u001b[43m    \u001b[49m\u001b[43m)\u001b[49m\u001b[43m,\u001b[49m\n\u001b[1;32m    399\u001b[0m \u001b[43m    \u001b[49m\u001b[43m_NORM_RECT_STREAM_NAME\u001b[49m\u001b[43m:\u001b[49m\u001b[43m \u001b[49m\u001b[43mpacket_creator\u001b[49m\u001b[38;5;241;43m.\u001b[39;49m\u001b[43mcreate_proto\u001b[49m\u001b[43m(\u001b[49m\n\u001b[1;32m    400\u001b[0m \u001b[43m        \u001b[49m\u001b[43mnormalized_rect\u001b[49m\u001b[38;5;241;43m.\u001b[39;49m\u001b[43mto_pb2\u001b[49m\u001b[43m(\u001b[49m\u001b[43m)\u001b[49m\n\u001b[1;32m    401\u001b[0m \u001b[43m    \u001b[49m\u001b[43m)\u001b[49m\u001b[38;5;241;43m.\u001b[39;49m\u001b[43mat\u001b[49m\u001b[43m(\u001b[49m\u001b[43mtimestamp_ms\u001b[49m\u001b[43m \u001b[49m\u001b[38;5;241;43m*\u001b[39;49m\u001b[43m \u001b[49m\u001b[43m_MICRO_SECONDS_PER_MILLISECOND\u001b[49m\u001b[43m)\u001b[49m\u001b[43m,\u001b[49m\n\u001b[1;32m    402\u001b[0m \u001b[43m\u001b[49m\u001b[43m}\u001b[49m\u001b[43m)\u001b[49m\n\u001b[1;32m    404\u001b[0m \u001b[38;5;28;01mif\u001b[39;00m output_packets[_NORM_LANDMARKS_STREAM_NAME]\u001b[38;5;241m.\u001b[39mis_empty():\n\u001b[1;32m    405\u001b[0m   \u001b[38;5;28;01mreturn\u001b[39;00m PoseLandmarkerResult([], [])\n",
      "File \u001b[0;32m~/opt/anaconda3/envs/cos429/lib/python3.8/site-packages/mediapipe/tasks/python/vision/core/base_vision_task_api.py:119\u001b[0m, in \u001b[0;36mBaseVisionTaskApi._process_video_data\u001b[0;34m(self, inputs)\u001b[0m\n\u001b[1;32m    114\u001b[0m \u001b[38;5;28;01mif\u001b[39;00m \u001b[38;5;28mself\u001b[39m\u001b[38;5;241m.\u001b[39m_running_mode \u001b[38;5;241m!=\u001b[39m _RunningMode\u001b[38;5;241m.\u001b[39mVIDEO:\n\u001b[1;32m    115\u001b[0m   \u001b[38;5;28;01mraise\u001b[39;00m \u001b[38;5;167;01mValueError\u001b[39;00m(\n\u001b[1;32m    116\u001b[0m       \u001b[38;5;124m'\u001b[39m\u001b[38;5;124mTask is not initialized with the video mode. Current running mode:\u001b[39m\u001b[38;5;124m'\u001b[39m\n\u001b[1;32m    117\u001b[0m       \u001b[38;5;241m+\u001b[39m \u001b[38;5;28mself\u001b[39m\u001b[38;5;241m.\u001b[39m_running_mode\u001b[38;5;241m.\u001b[39mname\n\u001b[1;32m    118\u001b[0m   )\n\u001b[0;32m--> 119\u001b[0m \u001b[38;5;28;01mreturn\u001b[39;00m \u001b[38;5;28;43mself\u001b[39;49m\u001b[38;5;241;43m.\u001b[39;49m\u001b[43m_runner\u001b[49m\u001b[38;5;241;43m.\u001b[39;49m\u001b[43mprocess\u001b[49m\u001b[43m(\u001b[49m\u001b[43minputs\u001b[49m\u001b[43m)\u001b[49m\n",
      "\u001b[0;31mValueError\u001b[0m: Input timestamp must be monotonically increasing."
     ]
    }
   ],
   "source": [
    "# Load a video\n",
    "video_path = \"/Users/alejandraduran/Documents/Pton_courses/COS429/video_data/Adho Mukha Svanasana/1.mp4\"\n",
    "cap = cv2.VideoCapture(video_path)\n",
    "\n",
    "frame_rate = cap.get(cv2.CAP_PROP_FPS)\n",
    "n = -1\n",
    "\n",
    "label_across_frames = []\n",
    "label_with_delays = []\n",
    "\n",
    "# Create a loop to read the latest frame from the camera\n",
    "while cap.isOpened():\n",
    "    ret, frame = cap.read()\n",
    "    \n",
    "    if not ret:\n",
    "        print(\"Error: Unable to fetch the frame.\")\n",
    "        break\n",
    "    \n",
    "    # new frame\n",
    "    n+=1\n",
    "    # get timestamp from frame rate\n",
    "    timestamp = n * 1000 / frame_rate\n",
    "\n",
    "    # Run inference on the image \n",
    "    # uncomment if double: landmarks_draw, landmarks = features_mp.detect(frame, live_stream=True, frame_timestamp_ms=timestamp, double=True)\n",
    "    landmarks = features_mp.detect(frame, video=True, frame_timestamp_ms=timestamp)\n",
    "    \n",
    "    # Draw landmarks if detected\n",
    "    if landmarks is not None: # uncomment if double: and landmarks_draw is not None:  \n",
    "        if len(landmarks.pose_landmarks) != 0: # uncomment if double: and len(landmarks_draw.pose_landmarks) != 0:\n",
    "            \n",
    "            pose_landmarks_list = landmarks.pose_landmarks \n",
    "            # uncomment if double: pose_landmarks_draw_list = landmarks_draw.pose_landmarks\n",
    "\n",
    "            # get only normalized coordinates - improves latency\n",
    "            pose_landmarks = pose_landmarks_list[0]\n",
    "            # uncomment if double: pose_landmarks_draw = pose_landmarks_draw_list[0]\n",
    "            \n",
    "            # Draw the pose landmarks.\n",
    "            pose_landmarks_proto = landmark_pb2.NormalizedLandmarkList()\n",
    "            to_classify = np.zeros((features_mp.n_landmarks, 4))\n",
    "            to_extend = []\n",
    "            \n",
    "            # store normalized landmarks to appends and classify\n",
    "            for k, landmark in enumerate(pose_landmarks):\n",
    "                # uncomment if double: to_extend.append(landmark_pb2.NormalizedLandmark(x=pose_landmarks_draw[k].x, y=pose_landmarks_draw[k].y, z=pose_landmarks_draw[k].z))\n",
    "                to_extend.append(landmark_pb2.NormalizedLandmark(x=landmark.x,y=landmark.y, z=landmark.z))\n",
    "                # store in an array\n",
    "                to_classify[k] = [landmark.x, landmark.y, landmark.z, landmark.visibility]\n",
    "                \n",
    "            # normalize and rotate to_classify\n",
    "            to_classify = features_mp.make_rot_invariant(to_classify, init_norm=True)\n",
    "            to_classify = to_classify.reshape(1, features_mp.n_landmarks * 4)\n",
    "            \n",
    "            # draw real-time landmarks\n",
    "            pose_landmarks_proto.landmark.extend(to_extend)\n",
    "            solutions.drawing_utils.draw_landmarks(\n",
    "                frame,\n",
    "                pose_landmarks_proto,\n",
    "                solutions.pose.POSE_CONNECTIONS,\n",
    "                solutions.drawing_styles.get_default_pose_landmarks_style())\n",
    "                \n",
    "            # Run inference\n",
    "            predicted_class = classifier.predict(to_classify)\n",
    "            label_across_frames.append(int(predicted_class-1))\n",
    "            # Get the string label\n",
    "            predicted_name = label_encoder.inverse_transform([int(predicted_class-1)])\n",
    "            # Append to buffer\n",
    "            buffer.pop(0)\n",
    "            buffer.append(predicted_name[0])\n",
    "            # # if all elements now in the buffer are the same, then we can display the pose\n",
    "            if buffer[0] == buffer[1] == buffer[2] == buffer[3]:\n",
    "                text = sanskrit_english_dict[predicted_name[0]]\n",
    "                label_with_delays.append(int(predicted_class-1))\n",
    "\n",
    "            cv2.putText(frame, text, coords, font, font_scale, text_color, font_thickness, cv2.LINE_AA)     \n",
    "            \n",
    "    # Display the output\n",
    "    cv2.imshow('Yoga Pose Detection', frame)\n",
    "\n",
    "# Release resources\n",
    "cap.release()\n",
    "cv2.destroyAllWindows()\n",
    "\n"
   ]
  },
  {
   "cell_type": "code",
   "execution_count": null,
   "metadata": {},
   "outputs": [],
   "source": []
  }
 ],
 "metadata": {
  "kernelspec": {
   "display_name": "cos429",
   "language": "python",
   "name": "python3"
  },
  "language_info": {
   "codemirror_mode": {
    "name": "ipython",
    "version": 3
   },
   "file_extension": ".py",
   "mimetype": "text/x-python",
   "name": "python",
   "nbconvert_exporter": "python",
   "pygments_lexer": "ipython3",
   "version": "3.8.20"
  }
 },
 "nbformat": 4,
 "nbformat_minor": 2
}
