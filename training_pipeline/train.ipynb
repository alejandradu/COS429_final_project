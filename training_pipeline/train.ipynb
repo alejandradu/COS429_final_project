{
 "cells": [
  {
   "cell_type": "markdown",
   "metadata": {},
   "source": [
    "#### Train different classifiers on still image datasets and visualize their outputs/performance\n",
    "\n",
    "PARAMETERS\n",
    "* detection confidence  -  check from realtime detection\n",
    "* tracking confidence  -  check from realtime detection\n",
    "* presence confidence  -  check from realtime detection\n",
    "* CLASSIFIER: random forest - n_estimators\n",
    "\n",
    "class balancing or classifier does not do much - seems to be a matter of the\n",
    "kyepoint detection"
   ]
  },
  {
   "cell_type": "code",
   "execution_count": 21,
   "metadata": {},
   "outputs": [],
   "source": [
    "import numpy as np\n",
    "import mediapipe as mp\n",
    "import pickle\n",
    "from prepare_data import parse_image_folder\n",
    "from extract_features import *\n",
    "from sklearn.model_selection import train_test_split\n",
    "from imblearn.over_sampling import SMOTE\n",
    "from sklearn.metrics import accuracy_score, precision_score, recall_score, roc_auc_score, balanced_accuracy_score, f1_score\n",
    "from sklearn.ensemble import RandomForestClassifier\n",
    "import pandas as pd\n",
    "import cv2\n",
    "\n",
    "seed = 333"
   ]
  },
  {
   "cell_type": "code",
   "execution_count": 85,
   "metadata": {},
   "outputs": [],
   "source": [
    "# from the Gemini API\n",
    "\n",
    "from mediapipe import solutions\n",
    "from mediapipe.framework.formats import landmark_pb2\n",
    "\n",
    "def draw_landmarks_on_image(rgb_image, detection_result=None, landmark_coords=None):\n",
    "    \"\"\"Can take in the landmark result object from MP detector or \n",
    "    the coordinates directly as an array (landmark, xyz coords)\"\"\"\n",
    "    \n",
    "    annotated_image = np.copy(rgb_image)\n",
    "\n",
    "    # can also give the coords directly after processing\n",
    "    if landmark_coords is not None:\n",
    "        # Draw the pose landmarks.\n",
    "        pose_landmarks_proto = landmark_pb2.NormalizedLandmarkList()\n",
    "        pose_landmarks_proto.landmark.extend([\n",
    "          landmark_pb2.NormalizedLandmark(x=landmark_coords[i,0], y=landmark_coords[i,1], z=landmark_coords[i,2]) for i in range(landmark_coords.shape[0])\n",
    "        ])\n",
    "        solutions.drawing_utils.draw_landmarks(\n",
    "          annotated_image,\n",
    "          pose_landmarks_proto,\n",
    "          solutions.pose.POSE_CONNECTIONS,\n",
    "          solutions.drawing_styles.get_default_pose_landmarks_style())\n",
    "        return annotated_image\n",
    "    \n",
    "    pose_landmarks_list = detection_result.pose_landmarks\n",
    "\n",
    "    # Loop through the detected poses to visualize.\n",
    "    for idx in range(len(pose_landmarks_list)):\n",
    "        pose_landmarks = pose_landmarks_list[idx] \n",
    "        # Draw the pose landmarks.\n",
    "        pose_landmarks_proto = landmark_pb2.NormalizedLandmarkList()\n",
    "        pose_landmarks_proto.landmark.extend([\n",
    "          landmark_pb2.NormalizedLandmark(x=landmark.x, y=landmark.y, z=landmark.z) for landmark in pose_landmarks\n",
    "        ])\n",
    "        solutions.drawing_utils.draw_landmarks(\n",
    "          annotated_image,\n",
    "          pose_landmarks_proto,\n",
    "          solutions.pose.POSE_CONNECTIONS,\n",
    "          solutions.drawing_styles.get_default_pose_landmarks_style())\n",
    "        \n",
    "    return annotated_image"
   ]
  },
  {
   "cell_type": "code",
   "execution_count": 3,
   "metadata": {},
   "outputs": [
    {
     "name": "stdout",
     "output_type": "stream",
     "text": [
      "Number of images: 2754\n"
     ]
    }
   ],
   "source": [
    "# still image dataset path\n",
    "directory = \"/Users/alejandraduran/Documents/Pton_courses/COS429/COS429_final_project/image_data\"\n",
    "\n",
    "# get standardized images and labels\n",
    "X, labels, df = parse_image_folder(directory)\n",
    "\n",
    "print('Number of images:', len(X))"
   ]
  },
  {
   "cell_type": "code",
   "execution_count": 137,
   "metadata": {},
   "outputs": [
    {
     "name": "stderr",
     "output_type": "stream",
     "text": [
      "I0000 00:00:1733805291.688353 63656735 gl_context.cc:357] GL version: 2.1 (2.1 Metal - 86), renderer: Apple M1\n"
     ]
    },
    {
     "name": "stdout",
     "output_type": "stream",
     "text": [
      "Number of training samples: 2203\n"
     ]
    }
   ],
   "source": [
    "# extract landmarks: MEDIAPIPE \n",
    "min_pose_detection_confidence = 0.7  # biggest effect\n",
    "min_pose_presence_confidence = 0.5\n",
    "min_tracking_confidence = 0.5\n",
    "\n",
    "mp_model_path = \"../pretrained_models/pose_landmarker_full.task\"\n",
    "detector = mediapipe_detector(mp_model_path,\n",
    "                              min_pose_detection_confidence=min_pose_detection_confidence,\n",
    "                              min_pose_presence_confidence=min_pose_presence_confidence,\n",
    "                              min_tracking_confidence=min_tracking_confidence,)\n",
    "\n",
    "x_data = np.zeros((len(X), MP_N_LANDMARKS * 4))  # For pose landmarks\n",
    "y_data = np.zeros(labels.shape)  # For labels\n",
    "\n",
    "c = 0\n",
    "\n",
    "# run inference on every image\n",
    "for i in range(len(X)):\n",
    "    landmarks = mediapipe_detect(detector, X[i])\n",
    "    # only include images with detected landmarks\n",
    "    if landmarks is not None:\n",
    "        # with detected poses\n",
    "        if len(landmarks.pose_landmarks) != 0:\n",
    "            x_data[i], y_data[i] = mediapipe_format_landmark(landmarks, labels[i])\n",
    "            \n",
    "            # draw one example detection\n",
    "            if c < 1000:\n",
    "                annotated_image = draw_landmarks_on_image(X[i], landmarks)\n",
    "                cv2.imwrite(f'visualize_landmarks_mediapipe/{i}.jpg', cv2.cvtColor(annotated_image, cv2.COLOR_RGB2BGR))     \n",
    "                c += 1      \n",
    "                \n",
    "# # drop images without detected poses\n",
    "# non_zero_mask = np.any(x_data != 0, axis=(1,))\n",
    "# x_data = x_data[non_zero_mask]\n",
    "# y_data = y_data[y_data != 0]\n",
    "\n",
    "# train-test split\n",
    "X_train, X_test, y_train, y_test = train_test_split(\n",
    "    x_data, y_data, test_size=0.2, shuffle=True, random_state=seed\n",
    ")\n",
    "print('Number of training samples:', len(X_train))"
   ]
  },
  {
   "cell_type": "code",
   "execution_count": null,
   "metadata": {},
   "outputs": [],
   "source": [
    "# extract landmarks: movenet\n",
    "\n"
   ]
  },
  {
   "cell_type": "code",
   "execution_count": 121,
   "metadata": {},
   "outputs": [],
   "source": [
    "# recover the indices\n",
    "x_data_index = np.arange(len(x_data), dtype=int)\n",
    "y_data_index = np.arange(len(y_data), dtype=int)\n",
    "\n",
    "index_train, index_test, index_train, index_test = train_test_split(\n",
    "    x_data_index, y_data_index, test_size=0.2, shuffle=True, random_state=seed\n",
    ")"
   ]
  },
  {
   "cell_type": "code",
   "execution_count": 122,
   "metadata": {},
   "outputs": [],
   "source": [
    "# save the landmark training datasets\n",
    "\n",
    "with open(f'landmark_datasets/landmark_train_DROP_256_{min_pose_detection_confidence}_{min_pose_presence_confidence}_{min_tracking_confidence}.pkl', 'wb') as f:\n",
    "    pickle.dump([X_train, y_train], f)\n",
    "    \n",
    "with open(f'landmark_datasets/landmark_test_DROP_256_{min_pose_detection_confidence}_{min_pose_presence_confidence}_{min_tracking_confidence}.pkl', 'wb') as f:\n",
    "    pickle.dump([X_test, y_test], f)"
   ]
  },
  {
   "cell_type": "code",
   "execution_count": 139,
   "metadata": {},
   "outputs": [
    {
     "name": "stdout",
     "output_type": "stream",
     "text": [
      "Number of training samples after SMOTE: 45024\n"
     ]
    }
   ],
   "source": [
    "# class balancing - somehow did not work when the confidence > 0.8?? \n",
    "# would not accept neighbors > 1\n",
    "smote_k_neighbors = 1 \n",
    "smote = SMOTE(random_state=seed, k_neighbors=smote_k_neighbors, sampling_strategy='not majority')\n",
    "X_resampled, y_resampled = smote.fit_resample(X_train, y_train)\n",
    "\n",
    "# save class distributions before and after rebalancing\n",
    "y_before_rebalance = pd.Series(y_train).value_counts()\n",
    "y_after_rebalance = pd.Series(y_resampled).value_counts()\n",
    "with open(f'rebalancing_analysis/SMOTE_{smote_k_neighbors}.pkl', 'wb') as f:\n",
    "    pickle.dump((y_before_rebalance, y_after_rebalance), f)\n",
    "    \n",
    "print('Number of training samples after SMOTE:', len(X_resampled))\n",
    "\n",
    "# save the rebalanced data\n",
    "with open(f'landmark_datasets/landmark_train_resampled_256_DROP_{min_pose_detection_confidence}_{min_pose_presence_confidence}_{min_tracking_confidence}.pkl', 'wb') as f:\n",
    "    pickle.dump([X_resampled, y_resampled], f)\n"
   ]
  },
  {
   "cell_type": "code",
   "execution_count": 124,
   "metadata": {},
   "outputs": [],
   "source": [
    "# train neural net based on best for train but with more regularization\n",
    "# # the key was alpha not too high but also not too low\n",
    "# from sklearn.neural_network import MLPClassifier\n",
    "\n",
    "# # with open('/Users/alejandraduran/Documents/Pton_courses/COS429/COS429_final_project/training_pipeline/landmark_datasets/landmark_train_256_0.9_0.8_0.8.pkl', 'rb') as f:\n",
    "# #     X_resampled, y_resampled = pickle.load(f)\n",
    "\n",
    "# nn = MLPClassifier(random_state=seed, max_iter=2000, learning_rate='adaptive', alpha=0.01, learning_rate_init=0.001, hidden_layer_sizes=(128, 128))\n",
    "\n",
    "# # plot the loss and train\n",
    "# nn.fit(X_resampled, y_resampled)\n",
    "\n",
    "# # save the model\n",
    "# with open('/Users/alejandraduran/Documents/Pton_courses/COS429/COS429_final_project/trained_classifiers/drop_neural_network_best.pkl', 'wb') as f:\n",
    "#     pickle.dump(nn, f)\n",
    "\n",
    "# # train a random forest classifier\n",
    "# rf = RandomForestClassifier(random_state=seed, n_estimators=200, max_depth=10)\n",
    "\n",
    "# # plot the loss and train\n",
    "# rf.fit(X_resampled, y_resampled)\n",
    "\n",
    "# # save the model\n",
    "# with open(f'/Users/alejandraduran/Documents/Pton_courses/COS429/COS429_final_project/trained_classifiers/randomforest3.pkl', 'wb') as f:\n",
    "#     pickle.dump(rf, f)"
   ]
  },
  {
   "cell_type": "code",
   "execution_count": 135,
   "metadata": {},
   "outputs": [
    {
     "data": {
      "image/png": "[encoded data removed]",
      "text/plain": [
       "<Figure size 640x480 with 1 Axes>"
      ]
     },
     "metadata": {},
     "output_type": "display_data"
    }
   ],
   "source": [
    "# load optimized model\n",
    "with open('/Users/alejandraduran/Documents/Pton_courses/COS429/COS429_final_project/trained_classifiers/FINALneural_network_best.pkl', 'rb') as f:\n",
    "    nn = pickle.load(f)\n",
    "    \n",
    "# plot the loss\n",
    "import matplotlib.pyplot as plt\n",
    "plt.plot(nn.loss_curve_)\n",
    "plt.xlabel('Epoch')\n",
    "plt.ylabel('Loss')\n",
    "plt.title('MLPc Loss')\n",
    "plt.show()\n"
   ]
  },
  {
   "cell_type": "code",
   "execution_count": 138,
   "metadata": {},
   "outputs": [
    {
     "name": "stdout",
     "output_type": "stream",
     "text": [
      "Accuracy 0.4627949183303085, F1 0.6854725645911747 Precision 0.7106656364468865, Recall 0.7295027599715102\n"
     ]
    },
    {
     "name": "stderr",
     "output_type": "stream",
     "text": [
      "/Users/alejandraduran/opt/anaconda3/envs/cos429/lib/python3.8/site-packages/sklearn/metrics/_classification.py:1471: UndefinedMetricWarning: Precision is ill-defined and being set to 0.0 in labels with no predicted samples. Use `zero_division` parameter to control this behavior.\n",
      "  _warn_prf(average, modifier, msg_start, len(result))\n",
      "/Users/alejandraduran/opt/anaconda3/envs/cos429/lib/python3.8/site-packages/sklearn/metrics/_classification.py:1471: UndefinedMetricWarning: Recall is ill-defined and being set to 0.0 in labels with no true samples. Use `zero_division` parameter to control this behavior.\n",
      "  _warn_prf(average, modifier, msg_start, len(result))\n"
     ]
    }
   ],
   "source": [
    "# save the FINAL clasifier\n",
    "# with open('/Users/alejandraduran/Documents/Pton_courses/COS429/COS429_final_project/trained_classifiers/FINALneural_network_best.pkl', 'wb') as f:\n",
    "#     pickle.dump(nn, f)\n",
    "    \n",
    "y_pred = nn.predict(X_test)\n",
    "\n",
    "accuracy = accuracy_score(y_test, y_pred)\n",
    "f1 = f1_score(y_test, y_pred, average='macro')\n",
    "precision=precision_score(y_test, y_pred, average='macro')\n",
    "recall=recall_score(y_test, y_pred, average='macro')\n",
    "\n",
    "print(f\"Accuracy {accuracy}, F1 {f1}\", f\"Precision {precision}, Recall {recall}\")\n"
   ]
  },
  {
   "cell_type": "code",
   "execution_count": null,
   "metadata": {},
   "outputs": [],
   "source": [
    "# metrics to evaluate how the model is doing in multiclass class\n",
    "\n",
    "# get the images again\n",
    "X_images, labels, df = parse_image_folder(directory)"
   ]
  },
  {
   "cell_type": "code",
   "execution_count": 115,
   "metadata": {},
   "outputs": [],
   "source": [
    "# Assuming index_test is your array of indices\n",
    "index_test = np.array(index_test, dtype=int)\n",
    "# Ensure it is 1-dimensional\n",
    "index_test = index_test.flatten()\n",
    "# Assuming X_images is a list and index_test is your array of indices\n",
    "X_images = np.array(X_images)\n",
    "# get the test images from the split\n",
    "X_images_test = X_images[index_test]\n",
    "\n",
    "# visualize 10 correct labeled images\n",
    "correct = np.where(y_test == y_pred)[0]\n",
    "for i in correct[:10]:\n",
    "    # pass in the landmark coordinates as (landmark, xyz(v) coords)\n",
    "    annotated_image = draw_landmarks_on_image(X_images_test[i], landmark_coords=X_test[i].reshape(-1, 4))\n",
    "    cv2.imwrite(f'correct_predictions/{i}.jpg', cv2.cvtColor(annotated_image, cv2.COLOR_RGB2BGR))  \n",
    "    \n",
    "# visualize 10 incorrect labeled images\n",
    "incorrect = np.where(y_test != y_pred)[0]\n",
    "for i in incorrect[:10]:\n",
    "    annotated_image = draw_landmarks_on_image(X_images_test[i], landmark_coords=X_test[i].reshape(-1, 4))\n",
    "    cv2.imwrite(f'incorrect_predictions/{i}.jpg', cv2.cvtColor(annotated_image, cv2.COLOR_RGB2BGR))   "
   ]
  },
  {
   "cell_type": "markdown",
   "metadata": {},
   "source": []
  }
 ],
 "metadata": {
  "kernelspec": {
   "display_name": "cos429",
   "language": "python",
   "name": "python3"
  },
  "language_info": {
   "codemirror_mode": {
    "name": "ipython",
    "version": 3
   },
   "file_extension": ".py",
   "mimetype": "text/x-python",
   "name": "python",
   "nbconvert_exporter": "python",
   "pygments_lexer": "ipython3",
   "version": "3.8.20"
  }
 },
 "nbformat": 4,
 "nbformat_minor": 2
}
