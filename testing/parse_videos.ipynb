{
 "cells": [
  {
   "cell_type": "code",
   "execution_count": 6,
   "metadata": {},
   "outputs": [],
   "source": [
    "# test realtime pose CLASSIFICATION (and hence landmark detection...)\n",
    "# on our curated dataset of pose videos\n",
    "\n",
    "import sys\n",
    "sys.path.insert(0, '/Users/alejandraduran/Documents/Pton_courses/COS429/COS429_final_project/training_pipeline')\n",
    "import os\n",
    "import cv2\n",
    "import mediapipe as mp\n",
    "import pickle\n",
    "from extract_features import FeaturesMP\n",
    "import numpy as np\n",
    "import time\n",
    "from mediapipe import solutions\n",
    "from mediapipe.framework.formats import landmark_pb2\n",
    "\n",
    "# Retrieve pre-trained model\n",
    "mp_model_path = \"/Users/alejandraduran/Documents/Pton_courses/COS429/COS429_final_project/pretrained_models/pose_landmarker_full.task\"\n",
    "# Initialize FeaturesMP object\n",
    "features_mp = FeaturesMP(mp_model_path, image_size=(1080, 1920))\n",
    "# load the label encoder\n",
    "with open('/Users/alejandraduran/Documents/Pton_courses/COS429/COS429_final_project/training_pipeline/label_encoder.pkl', 'rb') as f:    \n",
    "    label_encoder = pickle.load(f)\n",
    "\n",
    "# NOT SURE IF 7 OR 8 BUT ONE OF THOSE\n",
    "# load the trained classifier\n",
    "with open('/Users/alejandraduran/Documents/Pton_courses/COS429/COS429_final_project/trained_classifiers/padded_nn_8.pkl', 'rb') as f:\n",
    "    classifier = pickle.load(f)\n",
    "    \n",
    "# load the sanskrit to english dictionary\n",
    "with open('/Users/alejandraduran/Documents/Pton_courses/COS429/COS429_final_project/sanskrit_english_dict.pkl', 'rb') as f:\n",
    "    sanskrit_english_dict = pickle.load(f)\n",
    "\n",
    "\n",
    "# function to write demonstration videos - rest of testing function is sent in test_video.py\n",
    "\n",
    "def test_video(video_path, features_mp, label_encoder, classifier, sanskrit_english_dict):\n",
    "\n",
    "    cap = cv2.VideoCapture(video_path)\n",
    "\n",
    "    frame_rate = cap.get(cv2.CAP_PROP_FPS)\n",
    "    n = -1\n",
    "\n",
    "    # introduce delay in position predictions\n",
    "    buffer = [-1,-1,-1,-1]\n",
    "\n",
    "    label_across_frames = []\n",
    "    label_with_delays = []\n",
    "\n",
    "    # Initialize detector\n",
    "    features_mp.init_detector(video=True, min_pose_detection_confidence=0.7)\n",
    "\n",
    "    # Create a loop to read the latest frame from the camera\n",
    "    while cap.isOpened():\n",
    "        ret, frame = cap.read()\n",
    "        \n",
    "        if not ret:\n",
    "            print(\"Error: Unable to fetch the frame or finished the video.\")\n",
    "            break\n",
    "        \n",
    "        # new frame\n",
    "        n+=1\n",
    "        # get timestamp from frame rate\n",
    "        timestamp = int(n * 1000 / frame_rate)\n",
    "\n",
    "        # Run inference on the image \n",
    "        landmarks = features_mp.detect(frame, video=True, frame_timestamp_ms=timestamp)\n",
    "        \n",
    "        # Draw landmarks if detected\n",
    "        if landmarks is not None:\n",
    "            if len(landmarks.pose_landmarks) != 0:\n",
    "                \n",
    "                pose_landmarks_list = landmarks.pose_landmarks \n",
    "\n",
    "                # get only normalized coordinates - improves latency\n",
    "                pose_landmarks = pose_landmarks_list[0]\n",
    "\n",
    "                to_classify = np.zeros((features_mp.n_landmarks, 4))\n",
    "                to_extend = []\n",
    "                \n",
    "                # store normalized landmarks to appends and classify\n",
    "                for k, landmark in enumerate(pose_landmarks):\n",
    "                    to_classify[k] = [landmark.x, landmark.y, landmark.z, landmark.visibility]\n",
    "                    \n",
    "                # normalize and rotate to_classify\n",
    "                to_classify = features_mp.make_rot_invariant_partial(to_classify, init_norm=True)\n",
    "                to_classify = to_classify.reshape(1, features_mp.n_landmarks * 4)\n",
    "                    \n",
    "                # Run inference\n",
    "                predicted_class = classifier.predict(to_classify)\n",
    "                # Get the string label\n",
    "                predicted_name = label_encoder.inverse_transform([int(predicted_class-1)])\n",
    "                english = sanskrit_english_dict[predicted_name[0]]\n",
    "                label_across_frames.append(english)\n",
    "                # Append to buffer\n",
    "                buffer.pop(0)\n",
    "                buffer.append(predicted_name[0])\n",
    "                # # if all elements now in the buffer are the same, then we can display the pose\n",
    "                if buffer[0] == buffer[1] == buffer[2] == buffer[3]:\n",
    "                    text = english\n",
    "                    label_with_delays.append(english)\n",
    "\n",
    "    # Release resources\n",
    "    cap.release()\n",
    "    # out.release()\n",
    "    cv2.destroyAllWindows()\n",
    "    \n",
    "    return label_across_frames, label_with_delays\n"
   ]
  },
  {
   "cell_type": "code",
   "execution_count": 8,
   "metadata": {},
   "outputs": [
    {
     "name": "stderr",
     "output_type": "stream",
     "text": [
      "I0000 00:00:1733953626.503393 94137244 gl_context.cc:357] GL version: 2.1 (2.1 Metal - 86), renderer: Apple M1\n"
     ]
    },
    {
     "name": "stdout",
     "output_type": "stream",
     "text": [
      "Error: Unable to fetch the frame or finished the video.\n",
      "\n",
      "\n",
      " DONE WITH: 6.mp4\n"
     ]
    },
    {
     "name": "stderr",
     "output_type": "stream",
     "text": [
      "I0000 00:00:1733953645.578249 94137244 gl_context.cc:357] GL version: 2.1 (2.1 Metal - 86), renderer: Apple M1\n"
     ]
    },
    {
     "name": "stdout",
     "output_type": "stream",
     "text": [
      "Error: Unable to fetch the frame or finished the video.\n",
      "\n",
      "\n",
      " DONE WITH: 4.mp4\n"
     ]
    },
    {
     "name": "stderr",
     "output_type": "stream",
     "text": [
      "I0000 00:00:1733953653.795350 94137244 gl_context.cc:357] GL version: 2.1 (2.1 Metal - 86), renderer: Apple M1\n"
     ]
    },
    {
     "name": "stdout",
     "output_type": "stream",
     "text": [
      "Error: Unable to fetch the frame or finished the video.\n",
      "\n",
      "\n",
      " DONE WITH: 6mp4.mp4\n"
     ]
    },
    {
     "name": "stderr",
     "output_type": "stream",
     "text": [
      "I0000 00:00:1733953668.870830 94137244 gl_context.cc:357] GL version: 2.1 (2.1 Metal - 86), renderer: Apple M1\n"
     ]
    },
    {
     "name": "stdout",
     "output_type": "stream",
     "text": [
      "Error: Unable to fetch the frame or finished the video.\n",
      "\n",
      "\n",
      " DONE WITH: 5.mp4\n"
     ]
    },
    {
     "name": "stderr",
     "output_type": "stream",
     "text": [
      "I0000 00:00:1733953682.731108 94137244 gl_context.cc:357] GL version: 2.1 (2.1 Metal - 86), renderer: Apple M1\n"
     ]
    },
    {
     "name": "stdout",
     "output_type": "stream",
     "text": [
      "Error: Unable to fetch the frame or finished the video.\n",
      "\n",
      "\n",
      " DONE WITH: 1.mp4\n"
     ]
    },
    {
     "name": "stderr",
     "output_type": "stream",
     "text": [
      "I0000 00:00:1733953695.773474 94137244 gl_context.cc:357] GL version: 2.1 (2.1 Metal - 86), renderer: Apple M1\n"
     ]
    },
    {
     "name": "stdout",
     "output_type": "stream",
     "text": [
      "Error: Unable to fetch the frame or finished the video.\n",
      "\n",
      "\n",
      " DONE WITH: 2.mp4\n"
     ]
    },
    {
     "name": "stderr",
     "output_type": "stream",
     "text": [
      "I0000 00:00:1733953710.503050 94137244 gl_context.cc:357] GL version: 2.1 (2.1 Metal - 86), renderer: Apple M1\n"
     ]
    },
    {
     "name": "stdout",
     "output_type": "stream",
     "text": [
      "Error: Unable to fetch the frame or finished the video.\n",
      "\n",
      "\n",
      " DONE WITH: 3.mp4\n"
     ]
    },
    {
     "name": "stderr",
     "output_type": "stream",
     "text": [
      "I0000 00:00:1733953722.765012 94137244 gl_context.cc:357] GL version: 2.1 (2.1 Metal - 86), renderer: Apple M1\n"
     ]
    },
    {
     "name": "stdout",
     "output_type": "stream",
     "text": [
      "Error: Unable to fetch the frame or finished the video.\n",
      "\n",
      "\n",
      " DONE WITH: 20.mp4\n"
     ]
    },
    {
     "name": "stderr",
     "output_type": "stream",
     "text": [
      "I0000 00:00:1733953737.224871 94137244 gl_context.cc:357] GL version: 2.1 (2.1 Metal - 86), renderer: Apple M1\n"
     ]
    },
    {
     "name": "stdout",
     "output_type": "stream",
     "text": [
      "Error: Unable to fetch the frame or finished the video.\n",
      "\n",
      "\n",
      " DONE WITH: 18.mp4\n"
     ]
    },
    {
     "name": "stderr",
     "output_type": "stream",
     "text": [
      "I0000 00:00:1733953750.967547 94137244 gl_context.cc:357] GL version: 2.1 (2.1 Metal - 86), renderer: Apple M1\n"
     ]
    },
    {
     "name": "stdout",
     "output_type": "stream",
     "text": [
      "Error: Unable to fetch the frame or finished the video.\n",
      "\n",
      "\n",
      " DONE WITH: 19.mp4\n"
     ]
    },
    {
     "name": "stderr",
     "output_type": "stream",
     "text": [
      "I0000 00:00:1733953762.351645 94137244 gl_context.cc:357] GL version: 2.1 (2.1 Metal - 86), renderer: Apple M1\n"
     ]
    },
    {
     "name": "stdout",
     "output_type": "stream",
     "text": [
      "Error: Unable to fetch the frame or finished the video.\n",
      "\n",
      "\n",
      " DONE WITH: 7mp4.mp4\n"
     ]
    },
    {
     "name": "stderr",
     "output_type": "stream",
     "text": [
      "I0000 00:00:1733953777.127753 94137244 gl_context.cc:357] GL version: 2.1 (2.1 Metal - 86), renderer: Apple M1\n"
     ]
    },
    {
     "name": "stdout",
     "output_type": "stream",
     "text": [
      "Error: Unable to fetch the frame or finished the video.\n",
      "\n",
      "\n",
      " DONE WITH: 17.mp4\n"
     ]
    },
    {
     "name": "stderr",
     "output_type": "stream",
     "text": [
      "I0000 00:00:1733953791.475875 94137244 gl_context.cc:357] GL version: 2.1 (2.1 Metal - 86), renderer: Apple M1\n"
     ]
    },
    {
     "name": "stdout",
     "output_type": "stream",
     "text": [
      "Error: Unable to fetch the frame or finished the video.\n",
      "\n",
      "\n",
      " DONE WITH: 16.mp4\n"
     ]
    },
    {
     "name": "stderr",
     "output_type": "stream",
     "text": [
      "I0000 00:00:1733953802.373462 94137244 gl_context.cc:357] GL version: 2.1 (2.1 Metal - 86), renderer: Apple M1\n"
     ]
    },
    {
     "name": "stdout",
     "output_type": "stream",
     "text": [
      "Error: Unable to fetch the frame or finished the video.\n",
      "\n",
      "\n",
      " DONE WITH: 14.mp4\n"
     ]
    },
    {
     "name": "stderr",
     "output_type": "stream",
     "text": [
      "I0000 00:00:1733953811.625481 94137244 gl_context.cc:357] GL version: 2.1 (2.1 Metal - 86), renderer: Apple M1\n"
     ]
    },
    {
     "name": "stdout",
     "output_type": "stream",
     "text": [
      "Error: Unable to fetch the frame or finished the video.\n",
      "\n",
      "\n",
      " DONE WITH: 15.mp4\n"
     ]
    },
    {
     "name": "stderr",
     "output_type": "stream",
     "text": [
      "I0000 00:00:1733953822.693836 94137244 gl_context.cc:357] GL version: 2.1 (2.1 Metal - 86), renderer: Apple M1\n"
     ]
    },
    {
     "name": "stdout",
     "output_type": "stream",
     "text": [
      "Error: Unable to fetch the frame or finished the video.\n",
      "\n",
      "\n",
      " DONE WITH: 11.mp4\n"
     ]
    },
    {
     "name": "stderr",
     "output_type": "stream",
     "text": [
      "I0000 00:00:1733953839.171604 94137244 gl_context.cc:357] GL version: 2.1 (2.1 Metal - 86), renderer: Apple M1\n"
     ]
    },
    {
     "name": "stdout",
     "output_type": "stream",
     "text": [
      "Error: Unable to fetch the frame or finished the video.\n",
      "\n",
      "\n",
      " DONE WITH: 10.mp4\n"
     ]
    },
    {
     "name": "stderr",
     "output_type": "stream",
     "text": [
      "I0000 00:00:1733953856.309087 94137244 gl_context.cc:357] GL version: 2.1 (2.1 Metal - 86), renderer: Apple M1\n"
     ]
    },
    {
     "name": "stdout",
     "output_type": "stream",
     "text": [
      "Error: Unable to fetch the frame or finished the video.\n",
      "\n",
      "\n",
      " DONE WITH: 12.mp4\n"
     ]
    },
    {
     "name": "stderr",
     "output_type": "stream",
     "text": [
      "I0000 00:00:1733953869.151352 94137244 gl_context.cc:357] GL version: 2.1 (2.1 Metal - 86), renderer: Apple M1\n"
     ]
    },
    {
     "name": "stdout",
     "output_type": "stream",
     "text": [
      "Error: Unable to fetch the frame or finished the video.\n",
      "\n",
      "\n",
      " DONE WITH: 13.mp4\n"
     ]
    },
    {
     "name": "stderr",
     "output_type": "stream",
     "text": [
      "I0000 00:00:1733953883.376190 94137244 gl_context.cc:357] GL version: 2.1 (2.1 Metal - 86), renderer: Apple M1\n"
     ]
    },
    {
     "name": "stdout",
     "output_type": "stream",
     "text": [
      "Error: Unable to fetch the frame or finished the video.\n",
      "\n",
      "\n",
      " DONE WITH: 8.mp4\n"
     ]
    },
    {
     "name": "stderr",
     "output_type": "stream",
     "text": [
      "I0000 00:00:1733953895.597421 94137244 gl_context.cc:357] GL version: 2.1 (2.1 Metal - 86), renderer: Apple M1\n"
     ]
    },
    {
     "name": "stdout",
     "output_type": "stream",
     "text": [
      "Error: Unable to fetch the frame or finished the video.\n",
      "\n",
      "\n",
      " DONE WITH: 9.mp4\n"
     ]
    }
   ],
   "source": [
    "label_accross_frames_list = []\n",
    "label_with_delays_list = []\n",
    "    \n",
    "directory_path = \"/Users/alejandraduran/Documents/Pton_courses/COS429/video_data/Adho Mukha Svanasana\"\n",
    "# iterate over the videos of the directory\n",
    "for dirname, _, filenames in os.walk(directory_path):\n",
    "    for filename in filenames:\n",
    "        if not filename.endswith(('.mp4', '.avi')):  # Only process video files\n",
    "            continue  # Skip non-video files\n",
    "        video_path = os.path.join(dirname, filename)\n",
    "        label_across_frames, label_with_delays = test_video(video_path, features_mp, label_encoder, classifier, sanskrit_english_dict)\n",
    "        label_accross_frames_list.append(label_across_frames)\n",
    "        label_with_delays_list.append(label_with_delays)\n",
    "        print('\\n\\n DONE WITH:', filename)"
   ]
  },
  {
   "cell_type": "code",
   "execution_count": 9,
   "metadata": {},
   "outputs": [
    {
     "name": "stdout",
     "output_type": "stream",
     "text": [
      "Counts for label_accross_frames_list:\n",
      "Counter({'Butterfly': 3057, 'Plow': 2584, 'Plank': 362, 'Handstand': 232, 'Chair': 180, 'Forearm Stand': 154, 'Extended Side Angle': 129, 'Lotus': 123, 'Warrior I': 100, 'Reverse Warrior': 58, 'Shoulder Stand': 31, 'High Lunge': 25, 'Bridge': 24, 'Half-Boat': 24, 'Standing Forward Bend': 20, 'King Pigeon': 16, 'Splits': 16, 'Cow': 16, 'Corpse': 15, 'Boat': 14, 'Pyramid': 13, 'Camel': 9, 'Tree': 6, 'Extended Hand to Toe': 6, 'Triangle': 4, 'Sphinx': 3, 'Warrior III': 3, \"Child's Pose\": 2, 'Eagle': 2, 'Dolphin': 2, 'Cat': 1, 'Low Lunge': 1, 'Upward-Facing Dog': 1, 'Warrior II': 1})\n",
      "Counts for label_with_delays_list:\n",
      "Counter({'Butterfly': 2895, 'Plow': 2496, 'Plank': 269, 'Handstand': 178, 'Chair': 138, 'Forearm Stand': 135, 'Extended Side Angle': 64, 'Lotus': 59, 'Shoulder Stand': 18, 'Warrior I': 16, 'Reverse Warrior': 16, 'Half-Boat': 14, 'Cow': 9, 'Standing Forward Bend': 8, 'Splits': 6, 'Boat': 6, 'King Pigeon': 3, 'Bridge': 2, 'High Lunge': 1})\n"
     ]
    }
   ],
   "source": [
    "from collections import Counter\n",
    "\n",
    "# Flatten the list of lists\n",
    "flattened_list_accross_frames = [item for sublist in label_accross_frames_list for item in sublist]\n",
    "flattened_list_with_delays = [item for sublist in label_with_delays_list for item in sublist]\n",
    "\n",
    "# Count unique terms\n",
    "counter_accross_frames = Counter(flattened_list_accross_frames)\n",
    "counter_with_delays = Counter(flattened_list_with_delays)\n",
    "\n",
    "# Print the counts\n",
    "print(\"Counts for label_accross_frames_list:\")\n",
    "print(counter_accross_frames)\n",
    "\n",
    "print(\"Counts for label_with_delays_list:\")\n",
    "print(counter_with_delays)"
   ]
  },
  {
   "cell_type": "code",
   "execution_count": 10,
   "metadata": {},
   "outputs": [
    {
     "name": "stderr",
     "output_type": "stream",
     "text": [
      "I0000 00:00:1733953909.117984 94137244 gl_context.cc:357] GL version: 2.1 (2.1 Metal - 86), renderer: Apple M1\n"
     ]
    },
    {
     "name": "stdout",
     "output_type": "stream",
     "text": [
      "Error: Unable to fetch the frame or finished the video.\n",
      "\n",
      "\n",
      " DONE WITH: 4.mp4\n"
     ]
    },
    {
     "name": "stderr",
     "output_type": "stream",
     "text": [
      "I0000 00:00:1733953923.823711 94137244 gl_context.cc:357] GL version: 2.1 (2.1 Metal - 86), renderer: Apple M1\n"
     ]
    },
    {
     "name": "stdout",
     "output_type": "stream",
     "text": [
      "Error: Unable to fetch the frame or finished the video.\n",
      "\n",
      "\n",
      " DONE WITH: 5.mp4\n"
     ]
    },
    {
     "name": "stderr",
     "output_type": "stream",
     "text": [
      "I0000 00:00:1733953941.646180 94137244 gl_context.cc:357] GL version: 2.1 (2.1 Metal - 86), renderer: Apple M1\n"
     ]
    },
    {
     "name": "stdout",
     "output_type": "stream",
     "text": [
      "Error: Unable to fetch the frame or finished the video.\n",
      "\n",
      "\n",
      " DONE WITH: 1.mp4\n"
     ]
    },
    {
     "name": "stderr",
     "output_type": "stream",
     "text": [
      "I0000 00:00:1733953958.447630 94137244 gl_context.cc:357] GL version: 2.1 (2.1 Metal - 86), renderer: Apple M1\n"
     ]
    },
    {
     "name": "stdout",
     "output_type": "stream",
     "text": [
      "Error: Unable to fetch the frame or finished the video.\n",
      "\n",
      "\n",
      " DONE WITH: 2.mp4\n"
     ]
    },
    {
     "name": "stderr",
     "output_type": "stream",
     "text": [
      "I0000 00:00:1733953973.492174 94137244 gl_context.cc:357] GL version: 2.1 (2.1 Metal - 86), renderer: Apple M1\n"
     ]
    },
    {
     "name": "stdout",
     "output_type": "stream",
     "text": [
      "Error: Unable to fetch the frame or finished the video.\n",
      "\n",
      "\n",
      " DONE WITH: 3.mp4\n"
     ]
    },
    {
     "name": "stderr",
     "output_type": "stream",
     "text": [
      "I0000 00:00:1733953987.494448 94137244 gl_context.cc:357] GL version: 2.1 (2.1 Metal - 86), renderer: Apple M1\n"
     ]
    },
    {
     "name": "stdout",
     "output_type": "stream",
     "text": [
      "Error: Unable to fetch the frame or finished the video.\n",
      "\n",
      "\n",
      " DONE WITH: 8.mp4\n"
     ]
    },
    {
     "name": "stderr",
     "output_type": "stream",
     "text": [
      "I0000 00:00:1733954003.492914 94137244 gl_context.cc:357] GL version: 2.1 (2.1 Metal - 86), renderer: Apple M1\n"
     ]
    },
    {
     "name": "stdout",
     "output_type": "stream",
     "text": [
      "Error: Unable to fetch the frame or finished the video.\n",
      "\n",
      "\n",
      " DONE WITH: 9.mp4\n"
     ]
    }
   ],
   "source": [
    "label_accross_frames_list = []\n",
    "label_with_delays_list = []\n",
    "    \n",
    "directory_path = \"/Users/alejandraduran/Documents/Pton_courses/COS429/video_data/Adho Mukha Vrksasana\"\n",
    "# iterate over the videos of the directory\n",
    "for dirname, _, filenames in os.walk(directory_path):\n",
    "    for filename in filenames:\n",
    "        if not filename.endswith(('.mp4', '.avi')):  # Only process video files\n",
    "            continue  # Skip non-video files\n",
    "        video_path = os.path.join(dirname, filename)\n",
    "        label_across_frames, label_with_delays = test_video(video_path, features_mp, label_encoder, classifier, sanskrit_english_dict)\n",
    "        label_accross_frames_list.append(label_across_frames)\n",
    "        label_with_delays_list.append(label_with_delays)\n",
    "        print('\\n\\n DONE WITH:', filename)"
   ]
  },
  {
   "cell_type": "code",
   "execution_count": 11,
   "metadata": {},
   "outputs": [
    {
     "name": "stdout",
     "output_type": "stream",
     "text": [
      "Counts for label_accross_frames_list:\n",
      "Counter({'Extended Side Angle': 789, 'Corpse': 420, 'Cat': 352, 'Triangle': 310, 'Extended Hand to Toe': 227, 'Crow': 219, 'Sphinx': 111, 'Half-Moon': 49, 'Bridge': 23, 'Chair': 18, 'Low Lunge': 16, 'Warrior I': 12, 'Squat': 11, 'Crescent Lunge': 10, 'Plow': 10, 'Warrior III': 9, 'Forearm Stand': 8, 'Reverse Warrior': 6, 'Pigeon': 5, \"Child's Pose\": 5, 'Seated Forward Bend': 5, 'Warrior II': 4, 'Shoulder Stand': 3, 'Standing Forward Bend': 3, 'Butterfly': 1, 'Half-Boat': 1, 'Camel': 1, 'King Pigeon': 1})\n",
      "Counts for label_with_delays_list:\n",
      "Counter({'Extended Side Angle': 618, 'Corpse': 350, 'Cat': 333, 'Triangle': 271, 'Crow': 211, 'Extended Hand to Toe': 170, 'Sphinx': 77, 'Bridge': 20, 'Chair': 15, 'Half-Moon': 13, 'Warrior I': 8, 'Low Lunge': 8, 'Crescent Lunge': 7, 'Squat': 7, 'Forearm Stand': 5, 'Warrior III': 5, 'Plow': 4})\n"
     ]
    }
   ],
   "source": [
    "from collections import Counter\n",
    "\n",
    "# Flatten the list of lists\n",
    "flattened_list_accross_frames = [item for sublist in label_accross_frames_list for item in sublist]\n",
    "flattened_list_with_delays = [item for sublist in label_with_delays_list for item in sublist]\n",
    "\n",
    "# Count unique terms\n",
    "counter_accross_frames = Counter(flattened_list_accross_frames)\n",
    "counter_with_delays = Counter(flattened_list_with_delays)\n",
    "\n",
    "# Print the counts\n",
    "print(\"Counts for label_accross_frames_list:\")\n",
    "print(counter_accross_frames)\n",
    "\n",
    "print(\"Counts for label_with_delays_list:\")\n",
    "print(counter_with_delays)"
   ]
  },
  {
   "cell_type": "code",
   "execution_count": null,
   "metadata": {},
   "outputs": [],
   "source": []
  }
 ],
 "metadata": {
  "kernelspec": {
   "display_name": "cos429",
   "language": "python",
   "name": "python3"
  },
  "language_info": {
   "codemirror_mode": {
    "name": "ipython",
    "version": 3
   },
   "file_extension": ".py",
   "mimetype": "text/x-python",
   "name": "python",
   "nbconvert_exporter": "python",
   "pygments_lexer": "ipython3",
   "version": "3.8.20"
  }
 },
 "nbformat": 4,
 "nbformat_minor": 2
}
