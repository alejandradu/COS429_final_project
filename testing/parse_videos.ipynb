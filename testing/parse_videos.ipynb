{
 "cells": [
  {
   "cell_type": "code",
   "execution_count": 1,
   "metadata": {},
   "outputs": [],
   "source": [
    "# test realtime pose CLASSIFICATION (and hence landmark detection...)\n",
    "# on our curated dataset of pose videos\n",
    "\n",
    "import sys\n",
    "sys.path.insert(0, '/Users/alejandraduran/Documents/Pton_courses/COS429/COS429_final_project/training_pipeline')\n",
    "import os\n",
    "import cv2\n",
    "import mediapipe as mp\n",
    "import pickle\n",
    "from extract_features import FeaturesMP\n",
    "import numpy as np\n",
    "import time\n",
    "from mediapipe import solutions\n",
    "from mediapipe.framework.formats import landmark_pb2\n",
    "from collections import Counter\n",
    "\n",
    "# Retrieve pre-trained model\n",
    "mp_model_path = \"/Users/alejandraduran/Documents/Pton_courses/COS429/COS429_final_project/pretrained_models/pose_landmarker_full.task\"\n",
    "# Initialize FeaturesMP object\n",
    "features_mp = FeaturesMP(mp_model_path, image_size=(1080, 1920))\n",
    "# load the label encoder\n",
    "with open('/Users/alejandraduran/Documents/Pton_courses/COS429/COS429_final_project/training_pipeline/label_encoder.pkl', 'rb') as f:    \n",
    "    label_encoder = pickle.load(f)\n",
    "\n",
    "# NOT SURE IF 7 OR 8 BUT ONE OF THOSE\n",
    "# load the trained classifier\n",
    "with open('/Users/alejandraduran/Documents/Pton_courses/COS429/COS429_final_project/trained_classifiers/padded_nn_7.pkl', 'rb') as f:\n",
    "    classifier = pickle.load(f)\n",
    "    \n",
    "# load the sanskrit to english dictionary\n",
    "with open('/Users/alejandraduran/Documents/Pton_courses/COS429/COS429_final_project/sanskrit_english_dict.pkl', 'rb') as f:\n",
    "    sanskrit_english_dict = pickle.load(f)\n",
    "\n",
    "\n",
    "# function to write demonstration videos - rest of testing function is sent in test_video.py\n",
    "\n",
    "def test_video(video_path, features_mp, label_encoder, classifier, sanskrit_english_dict):\n",
    "\n",
    "    cap = cv2.VideoCapture(video_path)\n",
    "\n",
    "    frame_rate = cap.get(cv2.CAP_PROP_FPS)\n",
    "    n = -1\n",
    "\n",
    "    # introduce delay in position predictions\n",
    "    buffer = [-1,-1,-1,-1]\n",
    "\n",
    "    label_across_frames = []\n",
    "    label_with_delays = []\n",
    "\n",
    "    # Initialize detector\n",
    "    features_mp.init_detector(video=True, min_pose_detection_confidence=0.7)\n",
    "\n",
    "    # Create a loop to read the latest frame from the camera\n",
    "    while cap.isOpened():\n",
    "        ret, frame = cap.read()\n",
    "        \n",
    "        if not ret:\n",
    "            print(\"Error: Unable to fetch the frame or finished the video.\")\n",
    "            break\n",
    "        \n",
    "        # new frame\n",
    "        n+=1\n",
    "        # get timestamp from frame rate\n",
    "        timestamp = int(n * 1000 / frame_rate)\n",
    "\n",
    "        # Run inference on the image \n",
    "        landmarks = features_mp.detect(frame, video=True, frame_timestamp_ms=timestamp)\n",
    "        \n",
    "        # Draw landmarks if detected\n",
    "        if landmarks is not None:\n",
    "            if len(landmarks.pose_landmarks) != 0:\n",
    "                \n",
    "                pose_landmarks_list = landmarks.pose_landmarks \n",
    "\n",
    "                # get only normalized coordinates - improves latency\n",
    "                pose_landmarks = pose_landmarks_list[0]\n",
    "\n",
    "                to_classify = np.zeros((features_mp.n_landmarks, 4))\n",
    "                to_extend = []\n",
    "                \n",
    "                # store normalized landmarks to appends and classify\n",
    "                for k, landmark in enumerate(pose_landmarks):\n",
    "                    to_classify[k] = [landmark.x, landmark.y, landmark.z, landmark.visibility]\n",
    "                    \n",
    "                # normalize and rotate to_classify\n",
    "                to_classify = features_mp.make_rot_invariant_partial(to_classify, init_norm=True)\n",
    "                to_classify = to_classify.reshape(1, features_mp.n_landmarks * 4)\n",
    "                    \n",
    "                # Run inference\n",
    "                predicted_class = classifier.predict(to_classify)\n",
    "                # Get the string label\n",
    "                predicted_name = label_encoder.inverse_transform([int(predicted_class-1)])\n",
    "                english = sanskrit_english_dict[predicted_name[0]]\n",
    "                label_across_frames.append(english)\n",
    "                # Append to buffer\n",
    "                buffer.pop(0)\n",
    "                buffer.append(predicted_name[0])\n",
    "                # # if all elements now in the buffer are the same, then we can display the pose\n",
    "                if buffer[0] == buffer[1] == buffer[2] == buffer[3]:\n",
    "                    text = english\n",
    "                    label_with_delays.append(english)\n",
    "\n",
    "    # Release resources\n",
    "    cap.release()\n",
    "    # out.release()\n",
    "    cv2.destroyAllWindows()\n",
    "    \n",
    "    return label_across_frames, label_with_delays\n"
   ]
  },
  {
   "cell_type": "code",
   "execution_count": 2,
   "metadata": {},
   "outputs": [
    {
     "name": "stderr",
     "output_type": "stream",
     "text": [
      "WARNING: All log messages before absl::InitializeLog() is called are written to STDERR\n",
      "I0000 00:00:1733958377.211797  147289 gl_context.cc:357] GL version: 2.1 (2.1 Metal - 86), renderer: Apple M1\n",
      "INFO: Created TensorFlow Lite XNNPACK delegate for CPU.\n"
     ]
    },
    {
     "name": "stdout",
     "output_type": "stream",
     "text": [
      "Error: Unable to fetch the frame or finished the video.\n"
     ]
    },
    {
     "name": "stderr",
     "output_type": "stream",
     "text": [
      "I0000 00:00:1733958412.030782  147289 gl_context.cc:357] GL version: 2.1 (2.1 Metal - 86), renderer: Apple M1\n"
     ]
    },
    {
     "name": "stdout",
     "output_type": "stream",
     "text": [
      "Error: Unable to fetch the frame or finished the video.\n"
     ]
    },
    {
     "name": "stderr",
     "output_type": "stream",
     "text": [
      "I0000 00:00:1733958428.157886  147289 gl_context.cc:357] GL version: 2.1 (2.1 Metal - 86), renderer: Apple M1\n"
     ]
    },
    {
     "name": "stdout",
     "output_type": "stream",
     "text": [
      "Error: Unable to fetch the frame or finished the video.\n"
     ]
    },
    {
     "name": "stderr",
     "output_type": "stream",
     "text": [
      "I0000 00:00:1733958457.031311  147289 gl_context.cc:357] GL version: 2.1 (2.1 Metal - 86), renderer: Apple M1\n"
     ]
    },
    {
     "name": "stdout",
     "output_type": "stream",
     "text": [
      "Error: Unable to fetch the frame or finished the video.\n"
     ]
    },
    {
     "name": "stderr",
     "output_type": "stream",
     "text": [
      "I0000 00:00:1733958484.139857  147289 gl_context.cc:357] GL version: 2.1 (2.1 Metal - 86), renderer: Apple M1\n"
     ]
    },
    {
     "name": "stdout",
     "output_type": "stream",
     "text": [
      "Error: Unable to fetch the frame or finished the video.\n"
     ]
    },
    {
     "name": "stderr",
     "output_type": "stream",
     "text": [
      "I0000 00:00:1733958507.911658  147289 gl_context.cc:357] GL version: 2.1 (2.1 Metal - 86), renderer: Apple M1\n"
     ]
    },
    {
     "name": "stdout",
     "output_type": "stream",
     "text": [
      "Error: Unable to fetch the frame or finished the video.\n"
     ]
    },
    {
     "name": "stderr",
     "output_type": "stream",
     "text": [
      "I0000 00:00:1733958534.815447  147289 gl_context.cc:357] GL version: 2.1 (2.1 Metal - 86), renderer: Apple M1\n"
     ]
    },
    {
     "name": "stdout",
     "output_type": "stream",
     "text": [
      "Error: Unable to fetch the frame or finished the video.\n"
     ]
    },
    {
     "name": "stderr",
     "output_type": "stream",
     "text": [
      "I0000 00:00:1733958557.433645  147289 gl_context.cc:357] GL version: 2.1 (2.1 Metal - 86), renderer: Apple M1\n"
     ]
    },
    {
     "name": "stdout",
     "output_type": "stream",
     "text": [
      "Error: Unable to fetch the frame or finished the video.\n"
     ]
    },
    {
     "name": "stderr",
     "output_type": "stream",
     "text": [
      "I0000 00:00:1733958583.794238  147289 gl_context.cc:357] GL version: 2.1 (2.1 Metal - 86), renderer: Apple M1\n"
     ]
    },
    {
     "name": "stdout",
     "output_type": "stream",
     "text": [
      "Error: Unable to fetch the frame or finished the video.\n"
     ]
    },
    {
     "name": "stderr",
     "output_type": "stream",
     "text": [
      "I0000 00:00:1733958608.546444  147289 gl_context.cc:357] GL version: 2.1 (2.1 Metal - 86), renderer: Apple M1\n"
     ]
    },
    {
     "name": "stdout",
     "output_type": "stream",
     "text": [
      "Error: Unable to fetch the frame or finished the video.\n"
     ]
    },
    {
     "name": "stderr",
     "output_type": "stream",
     "text": [
      "I0000 00:00:1733958629.529939  147289 gl_context.cc:357] GL version: 2.1 (2.1 Metal - 86), renderer: Apple M1\n"
     ]
    },
    {
     "name": "stdout",
     "output_type": "stream",
     "text": [
      "Error: Unable to fetch the frame or finished the video.\n"
     ]
    },
    {
     "name": "stderr",
     "output_type": "stream",
     "text": [
      "I0000 00:00:1733958656.657631  147289 gl_context.cc:357] GL version: 2.1 (2.1 Metal - 86), renderer: Apple M1\n"
     ]
    },
    {
     "name": "stdout",
     "output_type": "stream",
     "text": [
      "Error: Unable to fetch the frame or finished the video.\n"
     ]
    },
    {
     "name": "stderr",
     "output_type": "stream",
     "text": [
      "I0000 00:00:1733958683.120789  147289 gl_context.cc:357] GL version: 2.1 (2.1 Metal - 86), renderer: Apple M1\n"
     ]
    },
    {
     "name": "stdout",
     "output_type": "stream",
     "text": [
      "Error: Unable to fetch the frame or finished the video.\n"
     ]
    },
    {
     "name": "stderr",
     "output_type": "stream",
     "text": [
      "I0000 00:00:1733958702.874060  147289 gl_context.cc:357] GL version: 2.1 (2.1 Metal - 86), renderer: Apple M1\n"
     ]
    },
    {
     "name": "stdout",
     "output_type": "stream",
     "text": [
      "Error: Unable to fetch the frame or finished the video.\n"
     ]
    },
    {
     "name": "stderr",
     "output_type": "stream",
     "text": [
      "I0000 00:00:1733958719.536081  147289 gl_context.cc:357] GL version: 2.1 (2.1 Metal - 86), renderer: Apple M1\n"
     ]
    },
    {
     "name": "stdout",
     "output_type": "stream",
     "text": [
      "Error: Unable to fetch the frame or finished the video.\n"
     ]
    },
    {
     "name": "stderr",
     "output_type": "stream",
     "text": [
      "I0000 00:00:1733958741.182040  147289 gl_context.cc:357] GL version: 2.1 (2.1 Metal - 86), renderer: Apple M1\n"
     ]
    },
    {
     "name": "stdout",
     "output_type": "stream",
     "text": [
      "Error: Unable to fetch the frame or finished the video.\n"
     ]
    },
    {
     "name": "stderr",
     "output_type": "stream",
     "text": [
      "I0000 00:00:1733958771.483642  147289 gl_context.cc:357] GL version: 2.1 (2.1 Metal - 86), renderer: Apple M1\n"
     ]
    },
    {
     "name": "stdout",
     "output_type": "stream",
     "text": [
      "Error: Unable to fetch the frame or finished the video.\n"
     ]
    },
    {
     "name": "stderr",
     "output_type": "stream",
     "text": [
      "I0000 00:00:1733958803.560369  147289 gl_context.cc:357] GL version: 2.1 (2.1 Metal - 86), renderer: Apple M1\n"
     ]
    },
    {
     "name": "stdout",
     "output_type": "stream",
     "text": [
      "Error: Unable to fetch the frame or finished the video.\n"
     ]
    },
    {
     "name": "stderr",
     "output_type": "stream",
     "text": [
      "I0000 00:00:1733958828.348639  147289 gl_context.cc:357] GL version: 2.1 (2.1 Metal - 86), renderer: Apple M1\n"
     ]
    },
    {
     "name": "stdout",
     "output_type": "stream",
     "text": [
      "Error: Unable to fetch the frame or finished the video.\n"
     ]
    },
    {
     "name": "stderr",
     "output_type": "stream",
     "text": [
      "I0000 00:00:1733958857.889654  147289 gl_context.cc:357] GL version: 2.1 (2.1 Metal - 86), renderer: Apple M1\n"
     ]
    },
    {
     "name": "stdout",
     "output_type": "stream",
     "text": [
      "Error: Unable to fetch the frame or finished the video.\n"
     ]
    },
    {
     "name": "stderr",
     "output_type": "stream",
     "text": [
      "I0000 00:00:1733958881.015549  147289 gl_context.cc:357] GL version: 2.1 (2.1 Metal - 86), renderer: Apple M1\n"
     ]
    },
    {
     "name": "stdout",
     "output_type": "stream",
     "text": [
      "Error: Unable to fetch the frame or finished the video.\n"
     ]
    },
    {
     "name": "stderr",
     "output_type": "stream",
     "text": [
      "I0000 00:00:1733958907.057040  147289 gl_context.cc:357] GL version: 2.1 (2.1 Metal - 86), renderer: Apple M1\n"
     ]
    },
    {
     "name": "stdout",
     "output_type": "stream",
     "text": [
      "Error: Unable to fetch the frame or finished the video.\n"
     ]
    },
    {
     "name": "stderr",
     "output_type": "stream",
     "text": [
      "I0000 00:00:1733958935.064958  147289 gl_context.cc:357] GL version: 2.1 (2.1 Metal - 86), renderer: Apple M1\n"
     ]
    },
    {
     "name": "stdout",
     "output_type": "stream",
     "text": [
      "Error: Unable to fetch the frame or finished the video.\n"
     ]
    },
    {
     "name": "stderr",
     "output_type": "stream",
     "text": [
      "I0000 00:00:1733958969.906179  147289 gl_context.cc:357] GL version: 2.1 (2.1 Metal - 86), renderer: Apple M1\n"
     ]
    },
    {
     "name": "stdout",
     "output_type": "stream",
     "text": [
      "Error: Unable to fetch the frame or finished the video.\n"
     ]
    },
    {
     "name": "stderr",
     "output_type": "stream",
     "text": [
      "I0000 00:00:1733959002.675439  147289 gl_context.cc:357] GL version: 2.1 (2.1 Metal - 86), renderer: Apple M1\n"
     ]
    },
    {
     "name": "stdout",
     "output_type": "stream",
     "text": [
      "Error: Unable to fetch the frame or finished the video.\n"
     ]
    },
    {
     "name": "stderr",
     "output_type": "stream",
     "text": [
      "I0000 00:00:1733959032.490938  147289 gl_context.cc:357] GL version: 2.1 (2.1 Metal - 86), renderer: Apple M1\n"
     ]
    },
    {
     "name": "stdout",
     "output_type": "stream",
     "text": [
      "Error: Unable to fetch the frame or finished the video.\n"
     ]
    },
    {
     "name": "stderr",
     "output_type": "stream",
     "text": [
      "I0000 00:00:1733959059.863745  147289 gl_context.cc:357] GL version: 2.1 (2.1 Metal - 86), renderer: Apple M1\n"
     ]
    },
    {
     "name": "stdout",
     "output_type": "stream",
     "text": [
      "Error: Unable to fetch the frame or finished the video.\n"
     ]
    },
    {
     "name": "stderr",
     "output_type": "stream",
     "text": [
      "I0000 00:00:1733959090.911742  147289 gl_context.cc:357] GL version: 2.1 (2.1 Metal - 86), renderer: Apple M1\n"
     ]
    },
    {
     "name": "stdout",
     "output_type": "stream",
     "text": [
      "Error: Unable to fetch the frame or finished the video.\n"
     ]
    },
    {
     "name": "stderr",
     "output_type": "stream",
     "text": [
      "I0000 00:00:1733959111.948737  147289 gl_context.cc:357] GL version: 2.1 (2.1 Metal - 86), renderer: Apple M1\n"
     ]
    },
    {
     "name": "stdout",
     "output_type": "stream",
     "text": [
      "Error: Unable to fetch the frame or finished the video.\n"
     ]
    },
    {
     "name": "stderr",
     "output_type": "stream",
     "text": [
      "I0000 00:00:1733959142.731986  147289 gl_context.cc:357] GL version: 2.1 (2.1 Metal - 86), renderer: Apple M1\n"
     ]
    },
    {
     "name": "stdout",
     "output_type": "stream",
     "text": [
      "Error: Unable to fetch the frame or finished the video.\n"
     ]
    },
    {
     "name": "stderr",
     "output_type": "stream",
     "text": [
      "I0000 00:00:1733959162.543279  147289 gl_context.cc:357] GL version: 2.1 (2.1 Metal - 86), renderer: Apple M1\n"
     ]
    },
    {
     "name": "stdout",
     "output_type": "stream",
     "text": [
      "Error: Unable to fetch the frame or finished the video.\n"
     ]
    },
    {
     "name": "stderr",
     "output_type": "stream",
     "text": [
      "I0000 00:00:1733959193.841951  147289 gl_context.cc:357] GL version: 2.1 (2.1 Metal - 86), renderer: Apple M1\n"
     ]
    },
    {
     "name": "stdout",
     "output_type": "stream",
     "text": [
      "Error: Unable to fetch the frame or finished the video.\n"
     ]
    },
    {
     "name": "stderr",
     "output_type": "stream",
     "text": [
      "I0000 00:00:1733959223.789749  147289 gl_context.cc:357] GL version: 2.1 (2.1 Metal - 86), renderer: Apple M1\n"
     ]
    },
    {
     "name": "stdout",
     "output_type": "stream",
     "text": [
      "Error: Unable to fetch the frame or finished the video.\n"
     ]
    },
    {
     "name": "stderr",
     "output_type": "stream",
     "text": [
      "I0000 00:00:1733959249.231325  147289 gl_context.cc:357] GL version: 2.1 (2.1 Metal - 86), renderer: Apple M1\n"
     ]
    },
    {
     "name": "stdout",
     "output_type": "stream",
     "text": [
      "Error: Unable to fetch the frame or finished the video.\n"
     ]
    },
    {
     "name": "stderr",
     "output_type": "stream",
     "text": [
      "I0000 00:00:1733959282.259411  147289 gl_context.cc:357] GL version: 2.1 (2.1 Metal - 86), renderer: Apple M1\n"
     ]
    },
    {
     "name": "stdout",
     "output_type": "stream",
     "text": [
      "Error: Unable to fetch the frame or finished the video.\n"
     ]
    },
    {
     "name": "stderr",
     "output_type": "stream",
     "text": [
      "I0000 00:00:1733959307.750065  147289 gl_context.cc:357] GL version: 2.1 (2.1 Metal - 86), renderer: Apple M1\n"
     ]
    },
    {
     "name": "stdout",
     "output_type": "stream",
     "text": [
      "Error: Unable to fetch the frame or finished the video.\n"
     ]
    },
    {
     "name": "stderr",
     "output_type": "stream",
     "text": [
      "I0000 00:00:1733959338.659893  147289 gl_context.cc:357] GL version: 2.1 (2.1 Metal - 86), renderer: Apple M1\n"
     ]
    },
    {
     "name": "stdout",
     "output_type": "stream",
     "text": [
      "Error: Unable to fetch the frame or finished the video.\n"
     ]
    },
    {
     "name": "stderr",
     "output_type": "stream",
     "text": [
      "I0000 00:00:1733959359.511609  147289 gl_context.cc:357] GL version: 2.1 (2.1 Metal - 86), renderer: Apple M1\n"
     ]
    },
    {
     "name": "stdout",
     "output_type": "stream",
     "text": [
      "Error: Unable to fetch the frame or finished the video.\n"
     ]
    },
    {
     "name": "stderr",
     "output_type": "stream",
     "text": [
      "I0000 00:00:1733959386.882095  147289 gl_context.cc:357] GL version: 2.1 (2.1 Metal - 86), renderer: Apple M1\n"
     ]
    },
    {
     "name": "stdout",
     "output_type": "stream",
     "text": [
      "Error: Unable to fetch the frame or finished the video.\n"
     ]
    },
    {
     "name": "stderr",
     "output_type": "stream",
     "text": [
      "I0000 00:00:1733959399.252221  147289 gl_context.cc:357] GL version: 2.1 (2.1 Metal - 86), renderer: Apple M1\n"
     ]
    },
    {
     "name": "stdout",
     "output_type": "stream",
     "text": [
      "Error: Unable to fetch the frame or finished the video.\n"
     ]
    },
    {
     "name": "stderr",
     "output_type": "stream",
     "text": [
      "I0000 00:00:1733959427.886564  147289 gl_context.cc:357] GL version: 2.1 (2.1 Metal - 86), renderer: Apple M1\n"
     ]
    },
    {
     "name": "stdout",
     "output_type": "stream",
     "text": [
      "Error: Unable to fetch the frame or finished the video.\n"
     ]
    },
    {
     "name": "stderr",
     "output_type": "stream",
     "text": [
      "I0000 00:00:1733959456.367192  147289 gl_context.cc:357] GL version: 2.1 (2.1 Metal - 86), renderer: Apple M1\n"
     ]
    },
    {
     "name": "stdout",
     "output_type": "stream",
     "text": [
      "Error: Unable to fetch the frame or finished the video.\n"
     ]
    },
    {
     "name": "stderr",
     "output_type": "stream",
     "text": [
      "I0000 00:00:1733959486.135944  147289 gl_context.cc:357] GL version: 2.1 (2.1 Metal - 86), renderer: Apple M1\n"
     ]
    },
    {
     "name": "stdout",
     "output_type": "stream",
     "text": [
      "Error: Unable to fetch the frame or finished the video.\n"
     ]
    },
    {
     "name": "stderr",
     "output_type": "stream",
     "text": [
      "I0000 00:00:1733959512.425495  147289 gl_context.cc:357] GL version: 2.1 (2.1 Metal - 86), renderer: Apple M1\n"
     ]
    },
    {
     "name": "stdout",
     "output_type": "stream",
     "text": [
      "Error: Unable to fetch the frame or finished the video.\n"
     ]
    },
    {
     "name": "stderr",
     "output_type": "stream",
     "text": [
      "I0000 00:00:1733959548.627295  147289 gl_context.cc:357] GL version: 2.1 (2.1 Metal - 86), renderer: Apple M1\n"
     ]
    },
    {
     "name": "stdout",
     "output_type": "stream",
     "text": [
      "Error: Unable to fetch the frame or finished the video.\n"
     ]
    },
    {
     "name": "stderr",
     "output_type": "stream",
     "text": [
      "I0000 00:00:1733959578.986205  147289 gl_context.cc:357] GL version: 2.1 (2.1 Metal - 86), renderer: Apple M1\n"
     ]
    },
    {
     "name": "stdout",
     "output_type": "stream",
     "text": [
      "Error: Unable to fetch the frame or finished the video.\n"
     ]
    },
    {
     "name": "stderr",
     "output_type": "stream",
     "text": [
      "I0000 00:00:1733959614.535980  147289 gl_context.cc:357] GL version: 2.1 (2.1 Metal - 86), renderer: Apple M1\n"
     ]
    },
    {
     "name": "stdout",
     "output_type": "stream",
     "text": [
      "Error: Unable to fetch the frame or finished the video.\n"
     ]
    },
    {
     "name": "stderr",
     "output_type": "stream",
     "text": [
      "I0000 00:00:1733959641.808824  147289 gl_context.cc:357] GL version: 2.1 (2.1 Metal - 86), renderer: Apple M1\n"
     ]
    },
    {
     "name": "stdout",
     "output_type": "stream",
     "text": [
      "Error: Unable to fetch the frame or finished the video.\n"
     ]
    },
    {
     "name": "stderr",
     "output_type": "stream",
     "text": [
      "I0000 00:00:1733959685.938157  147289 gl_context.cc:357] GL version: 2.1 (2.1 Metal - 86), renderer: Apple M1\n"
     ]
    },
    {
     "name": "stdout",
     "output_type": "stream",
     "text": [
      "Error: Unable to fetch the frame or finished the video.\n"
     ]
    },
    {
     "name": "stderr",
     "output_type": "stream",
     "text": [
      "I0000 00:00:1733959716.113834  147289 gl_context.cc:357] GL version: 2.1 (2.1 Metal - 86), renderer: Apple M1\n"
     ]
    },
    {
     "name": "stdout",
     "output_type": "stream",
     "text": [
      "Error: Unable to fetch the frame or finished the video.\n"
     ]
    },
    {
     "name": "stderr",
     "output_type": "stream",
     "text": [
      "I0000 00:00:1733959733.912919  147289 gl_context.cc:357] GL version: 2.1 (2.1 Metal - 86), renderer: Apple M1\n"
     ]
    },
    {
     "name": "stdout",
     "output_type": "stream",
     "text": [
      "Error: Unable to fetch the frame or finished the video.\n"
     ]
    },
    {
     "name": "stderr",
     "output_type": "stream",
     "text": [
      "I0000 00:00:1733959773.016518  147289 gl_context.cc:357] GL version: 2.1 (2.1 Metal - 86), renderer: Apple M1\n"
     ]
    },
    {
     "name": "stdout",
     "output_type": "stream",
     "text": [
      "Error: Unable to fetch the frame or finished the video.\n"
     ]
    },
    {
     "name": "stderr",
     "output_type": "stream",
     "text": [
      "I0000 00:00:1733959819.701667  147289 gl_context.cc:357] GL version: 2.1 (2.1 Metal - 86), renderer: Apple M1\n"
     ]
    },
    {
     "name": "stdout",
     "output_type": "stream",
     "text": [
      "Error: Unable to fetch the frame or finished the video.\n"
     ]
    },
    {
     "name": "stderr",
     "output_type": "stream",
     "text": [
      "I0000 00:00:1733959840.605766  147289 gl_context.cc:357] GL version: 2.1 (2.1 Metal - 86), renderer: Apple M1\n"
     ]
    },
    {
     "name": "stdout",
     "output_type": "stream",
     "text": [
      "Error: Unable to fetch the frame or finished the video.\n"
     ]
    },
    {
     "name": "stderr",
     "output_type": "stream",
     "text": [
      "I0000 00:00:1733959869.512127  147289 gl_context.cc:357] GL version: 2.1 (2.1 Metal - 86), renderer: Apple M1\n"
     ]
    },
    {
     "name": "stdout",
     "output_type": "stream",
     "text": [
      "Error: Unable to fetch the frame or finished the video.\n"
     ]
    },
    {
     "name": "stderr",
     "output_type": "stream",
     "text": [
      "I0000 00:00:1733959898.113845  147289 gl_context.cc:357] GL version: 2.1 (2.1 Metal - 86), renderer: Apple M1\n"
     ]
    },
    {
     "name": "stdout",
     "output_type": "stream",
     "text": [
      "Error: Unable to fetch the frame or finished the video.\n"
     ]
    },
    {
     "name": "stderr",
     "output_type": "stream",
     "text": [
      "I0000 00:00:1733959935.803631  147289 gl_context.cc:357] GL version: 2.1 (2.1 Metal - 86), renderer: Apple M1\n"
     ]
    },
    {
     "name": "stdout",
     "output_type": "stream",
     "text": [
      "Error: Unable to fetch the frame or finished the video.\n"
     ]
    },
    {
     "name": "stderr",
     "output_type": "stream",
     "text": [
      "I0000 00:00:1733959968.061500  147289 gl_context.cc:357] GL version: 2.1 (2.1 Metal - 86), renderer: Apple M1\n"
     ]
    },
    {
     "name": "stdout",
     "output_type": "stream",
     "text": [
      "Error: Unable to fetch the frame or finished the video.\n"
     ]
    },
    {
     "name": "stderr",
     "output_type": "stream",
     "text": [
      "I0000 00:00:1733959997.822778  147289 gl_context.cc:357] GL version: 2.1 (2.1 Metal - 86), renderer: Apple M1\n"
     ]
    },
    {
     "name": "stdout",
     "output_type": "stream",
     "text": [
      "Error: Unable to fetch the frame or finished the video.\n"
     ]
    },
    {
     "name": "stderr",
     "output_type": "stream",
     "text": [
      "I0000 00:00:1733960028.835522  147289 gl_context.cc:357] GL version: 2.1 (2.1 Metal - 86), renderer: Apple M1\n"
     ]
    },
    {
     "name": "stdout",
     "output_type": "stream",
     "text": [
      "Error: Unable to fetch the frame or finished the video.\n"
     ]
    },
    {
     "name": "stderr",
     "output_type": "stream",
     "text": [
      "I0000 00:00:1733960057.367683  147289 gl_context.cc:357] GL version: 2.1 (2.1 Metal - 86), renderer: Apple M1\n"
     ]
    },
    {
     "name": "stdout",
     "output_type": "stream",
     "text": [
      "Error: Unable to fetch the frame or finished the video.\n"
     ]
    },
    {
     "name": "stderr",
     "output_type": "stream",
     "text": [
      "I0000 00:00:1733960083.202903  147289 gl_context.cc:357] GL version: 2.1 (2.1 Metal - 86), renderer: Apple M1\n"
     ]
    },
    {
     "name": "stdout",
     "output_type": "stream",
     "text": [
      "Error: Unable to fetch the frame or finished the video.\n"
     ]
    },
    {
     "name": "stderr",
     "output_type": "stream",
     "text": [
      "I0000 00:00:1733960114.547059  147289 gl_context.cc:357] GL version: 2.1 (2.1 Metal - 86), renderer: Apple M1\n"
     ]
    },
    {
     "name": "stdout",
     "output_type": "stream",
     "text": [
      "Error: Unable to fetch the frame or finished the video.\n"
     ]
    }
   ],
   "source": [
    "\n",
    "# MISSING ARDHA MATS, ardha pincha, ashta chandra\n",
    "\n",
    "testing_now = ['Adho Mukha Svanasana', 'Adho Mukha Vrksasana', 'Anjaneyasana', 'Ardha Navasana','Baddha Konasana']\n",
    "    \n",
    "for pose in testing_now:\n",
    "    label_accross_frames_list = []\n",
    "    label_with_delays_list = []\n",
    "    directory_path = f\"/Users/alejandraduran/Documents/Pton_courses/COS429/video_data/{pose}\"\n",
    "    # iterate over the videos of the directory\n",
    "    for dirname, _, filenames in os.walk(directory_path):\n",
    "        for filename in filenames:\n",
    "            if not filename.endswith(('.mp4', '.avi')):  # Only process video files\n",
    "                continue  # Skip non-video files\n",
    "            video_path = os.path.join(dirname, filename)\n",
    "            label_across_frames, label_with_delays = test_video(video_path, features_mp, label_encoder, classifier, sanskrit_english_dict)\n",
    "            label_accross_frames_list.append(label_across_frames)\n",
    "            label_with_delays_list.append(label_with_delays)\n",
    "            \n",
    "    # save the multi-video results for each pose\n",
    "    with open(f'/Users/alejandraduran/Documents/Pton_courses/COS429/COS429_final_project/testing/metrics/{pose}_label_across_frames.pkl', 'wb') as f:\n",
    "        pickle.dump(label_accross_frames_list, f)\n",
    "    with open(f'/Users/alejandraduran/Documents/Pton_courses/COS429/COS429_final_project/testing/metrics/{pose}_label_with_delays.pkl', 'wb') as f:\n",
    "        pickle.dump(label_with_delays_list, f) \n",
    "        \n",
    "    # run in cluster\n",
    "            "
   ]
  },
  {
   "cell_type": "code",
   "execution_count": null,
   "metadata": {},
   "outputs": [],
   "source": [
    "import os\n",
    "import pickle\n",
    "\n",
    "# Define the base directory path\n",
    "base_directory_path = \"/Users/alejandraduran/Documents/Pton_courses/COS429/video_data\"\n",
    "\n",
    "# Iterate over all directories and files in the base directory\n",
    "for dirname, _, filenames in os.walk(base_directory_path):\n",
    "    pose = os.path.basename(dirname)\n",
    "    label_accross_frames_list = []\n",
    "    label_with_delays_list = []\n",
    "    \n",
    "    for filename in filenames:\n",
    "        if not filename.endswith(('.mp4', '.avi')):  # Only process video files\n",
    "            continue  # Skip non-video files\n",
    "        video_path = os.path.join(dirname, filename)\n",
    "        label_across_frames, label_with_delays = test_video(video_path, features_mp, label_encoder, classifier, sanskrit_english_dict)\n",
    "        label_accross_frames_list.append(label_across_frames)\n",
    "        label_with_delays_list.append(label_with_delays)\n",
    "        \n",
    "    print(f\"Pose: {pose}\")\n",
    "    \n",
    "    # Save the multi-video results for each pose\n",
    "    if label_accross_frames_list and label_with_delays_list:  # Ensure there are results to save\n",
    "        with open(f'/Users/alejandraduran/Documents/Pton_courses/COS429/COS429_final_project/testing/metrics/{pose}_label_across_frames.pkl', 'wb') as f:\n",
    "            pickle.dump(label_accross_frames_list, f)\n",
    "        with open(f'/Users/alejandraduran/Documents/Pton_courses/COS429/COS429_final_project/testing/metrics/{pose}_label_with_delays.pkl', 'wb') as f:\n",
    "            pickle.dump(label_with_delays_list, f)"
   ]
  },
  {
   "cell_type": "code",
   "execution_count": 3,
   "metadata": {},
   "outputs": [
    {
     "name": "stdout",
     "output_type": "stream",
     "text": [
      "Counts for label_accross_frames_list:\n",
      "Counter({'Downward-facing dog': 4234, 'Crow': 2156, 'Extended Side Angle': 297, 'Pyramid': 177, 'Corpse': 119, 'Pigeon': 52, 'Triangle': 46, 'Warrior III': 40, 'Half-Moon': 20, 'Wild Thing': 18, 'Plank': 13, 'High Lunge': 13, 'Cat': 12, 'Squat': 12, 'Reverse Warrior': 9, 'Sphinx': 6, 'Tree': 5, 'Butterfly': 3, 'Chair': 2})\n",
      "Counts for label_with_delays_list:\n",
      "Counter({'Downward-facing dog': 4163, 'Crow': 2066, 'Extended Side Angle': 185, 'Pyramid': 168, 'Corpse': 85, 'Pigeon': 35, 'Triangle': 20, 'Warrior III': 10, 'Cat': 9, 'Squat': 9, 'Plank': 4, 'Tree': 2, 'Wild Thing': 2, 'Half-Moon': 1})\n"
     ]
    }
   ],
   "source": [
    "# Flatten the list of lists\n",
    "flattened_list_accross_frames = [item for sublist in label_accross_frames_list for item in sublist]\n",
    "flattened_list_with_delays = [item for sublist in label_with_delays_list for item in sublist]\n",
    "\n",
    "# Count unique terms\n",
    "counter_accross_frames = Counter(flattened_list_accross_frames)\n",
    "counter_with_delays = Counter(flattened_list_with_delays)\n",
    "\n",
    "# Print the counts\n",
    "print(\"Counts for label_accross_frames_list:\")\n",
    "print(counter_accross_frames)\n",
    "\n",
    "print(\"Counts for label_with_delays_list:\")\n",
    "print(counter_with_delays)"
   ]
  }
 ],
 "metadata": {
  "kernelspec": {
   "display_name": "cos429",
   "language": "python",
   "name": "python3"
  },
  "language_info": {
   "codemirror_mode": {
    "name": "ipython",
    "version": 3
   },
   "file_extension": ".py",
   "mimetype": "text/x-python",
   "name": "python",
   "nbconvert_exporter": "python",
   "pygments_lexer": "ipython3",
   "version": "3.8.20"
  }
 },
 "nbformat": 4,
 "nbformat_minor": 2
}
