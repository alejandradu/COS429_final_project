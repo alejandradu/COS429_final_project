{
 "cells": [
  {
   "cell_type": "markdown",
   "metadata": {},
   "source": [
    "### Featurization and training classifiers on the still image dataset\n",
    "\n",
    "Parameters\n",
    "* detection confidence  -  check from realtime detection\n",
    "* tracking confidence  -  check from realtime detection\n",
    "* presence confidence  -  check from realtime detection\n",
    "* CLASSIFIER: random forest - n_estimators / MLPClassifier - lr, alpha, optimizer, hidden size, batch size, lr_init, momentum, activation\n",
    "\n",
    "Using SMOTE for class balancing\n",
    "* Note that the test set has at least two classes with only one example that depending on the split might bias the accuracy (that's why we consider weighted accuracy)"
   ]
  },
  {
   "cell_type": "code",
   "execution_count": 1,
   "metadata": {},
   "outputs": [],
   "source": [
    "import numpy as np\n",
    "import mediapipe as mp\n",
    "import pickle\n",
    "from prepare_data import parse_image_folder\n",
    "from extract_features import *\n",
    "from sklearn.model_selection import train_test_split\n",
    "from imblearn.over_sampling import SMOTE\n",
    "from sklearn.metrics import accuracy_score, precision_score, recall_score, roc_auc_score, balanced_accuracy_score, f1_score\n",
    "from sklearn.ensemble import RandomForestClassifier\n",
    "import pandas as pd\n",
    "import cv2\n",
    "\n",
    "seed = 333"
   ]
  },
  {
   "cell_type": "code",
   "execution_count": 3,
   "metadata": {},
   "outputs": [
    {
     "name": "stdout",
     "output_type": "stream",
     "text": [
      "Number of images: 2754\n",
      "shape of an image: (256, 256, 3)\n"
     ]
    }
   ],
   "source": [
    "# still image dataset path\n",
    "directory = \"/Users/alejandraduran/Documents/Pton_courses/COS429/COS429_final_project/image_data\"\n",
    "\n",
    "# get standardized images and labels\n",
    "X, labels, df = parse_image_folder(directory)\n",
    "\n",
    "print('Number of images:', len(X))\n",
    "\n",
    "print(\"shape of an image:\", X[0].shape)"
   ]
  },
  {
   "cell_type": "code",
   "execution_count": null,
   "metadata": {},
   "outputs": [],
   "source": [
    "# extract landmarks: MEDIAPIPE \n",
    "min_pose_detection_confidence = 0.7  # biggest effect\n",
    "min_pose_presence_confidence = 0.5\n",
    "min_tracking_confidence = 0.5\n",
    "\n",
    "mp_model_path = \"../pretrained_models/pose_landmarker_heavy.task\"\n",
    "detector = mediapipe_detector(mp_model_path,\n",
    "                              min_pose_detection_confidence=min_pose_detection_confidence,\n",
    "                              min_pose_presence_confidence=min_pose_presence_confidence,\n",
    "                              min_tracking_confidence=min_tracking_confidence,)\n",
    "\n",
    "x_data = np.zeros((len(X), MP_N_LANDMARKS * 4))  # For pose landmarks\n",
    "y_data = np.zeros(labels.shape)  # For labels\n",
    "\n",
    "c = 0\n",
    "\n",
    "# run inference on every image\n",
    "for i in range(len(X)):\n",
    "    landmarks = mediapipe_detect(detector, X[i])\n",
    "    # only include images with detected landmarks\n",
    "    if landmarks is not None:\n",
    "        # with detected poses\n",
    "        if len(landmarks.pose_landmarks) != 0:\n",
    "            x_data[i], y_data[i] = mediapipe_format_landmark(landmarks, labels[i])\n",
    "            \n",
    "            # draw one example detection\n",
    "            if c < 1000:\n",
    "                annotated_image = draw_landmarks_on_image(X[i], landmarks)\n",
    "                cv2.imwrite(f'/Users/alejandraduran/Documents/Pton_courses/COS429/visualize_landmarks_mediapipe_2/{i}.jpg', cv2.cvtColor(annotated_image, cv2.COLOR_RGB2BGR))     \n",
    "                c += 1      \n",
    "                \n",
    "# drop images without detected poses\n",
    "non_zero_mask = np.any(x_data != 0, axis=(1,))\n",
    "x_data = x_data[non_zero_mask]\n",
    "y_data = y_data[y_data != 0]"
   ]
  },
  {
   "cell_type": "code",
   "execution_count": 14,
   "metadata": {},
   "outputs": [
    {
     "name": "stdout",
     "output_type": "stream",
     "text": [
      "Number of training samples: 1848\n"
     ]
    }
   ],
   "source": [
    "# train-test split\n",
    "X_train, X_test, y_train, y_test = train_test_split(\n",
    "    x_data, y_data, test_size=0.2, shuffle=True, random_state=seed\n",
    ")\n",
    "print('Number of training samples:', len(X_train))\n",
    "\n",
    "# recover the indices\n",
    "x_data_index = np.arange(len(x_data), dtype=int)\n",
    "y_data_index = np.arange(len(y_data), dtype=int)\n",
    "\n",
    "index_train, index_test, index_train, index_test = train_test_split(\n",
    "    x_data_index, y_data_index, test_size=0.2, shuffle=True, random_state=seed\n",
    ")\n",
    "\n",
    "# save the landmark training datasets\n",
    "with open(f'new_landmark_datasets/landmark_train_heavy_256_pad_{min_pose_detection_confidence}_{min_pose_presence_confidence}_{min_tracking_confidence}.pkl', 'wb') as f:\n",
    "    pickle.dump([X_train, y_train], f)\n",
    "    \n",
    "with open(f'new_landmark_datasets/landmark_test_heavy_256_pad_{min_pose_detection_confidence}_{min_pose_presence_confidence}_{min_tracking_confidence}.pkl', 'wb') as f:\n",
    "    pickle.dump([X_test, y_test], f)"
   ]
  },
  {
   "cell_type": "code",
   "execution_count": 16,
   "metadata": {},
   "outputs": [
    {
     "name": "stdout",
     "output_type": "stream",
     "text": [
      "Train class distribution\n",
      "count    47.000000\n",
      "mean     39.319149\n",
      "std      17.319386\n",
      "min       6.000000\n",
      "25%      28.000000\n",
      "50%      45.000000\n",
      "75%      52.000000\n",
      "max      69.000000\n",
      "Name: count, dtype: float64\n",
      "Test class distribution\n",
      "count    47.000000\n",
      "mean      9.851064\n",
      "std       5.594946\n",
      "min       1.000000\n",
      "25%       6.000000\n",
      "50%      10.000000\n",
      "75%      13.000000\n",
      "max      26.000000\n",
      "Name: count, dtype: float64\n",
      "Number of training samples after SMOTE: 3243\n",
      "Train class distribution after resampling\n",
      "count    47.0\n",
      "mean     69.0\n",
      "std       0.0\n",
      "min      69.0\n",
      "25%      69.0\n",
      "50%      69.0\n",
      "75%      69.0\n",
      "max      69.0\n",
      "Name: count, dtype: float64\n"
     ]
    }
   ],
   "source": [
    "# print statistics on class composition \n",
    "y_train_series = pd.Series(y_train)\n",
    "y_test_series = pd.Series(y_test)\n",
    "y_train_counts = y_train_series.value_counts()\n",
    "y_test_counts = y_test_series.value_counts()\n",
    "# print the median, mean, stdv, max and min of the class distribution\n",
    "print('Train class distribution')\n",
    "print(y_train_counts.describe())\n",
    "print('Test class distribution')\n",
    "print(y_test_counts.describe())\n",
    "\n",
    "# class balancing - somehow did not work when the confidence > 0.8?? \n",
    "# would not accept neighbors > 1\n",
    "smote_k_neighbors = 3 \n",
    "smote = SMOTE(random_state=seed, k_neighbors=smote_k_neighbors, sampling_strategy='not majority')\n",
    "X_resampled, y_resampled = smote.fit_resample(X_train, y_train)\n",
    "\n",
    "# save class distributions before and after rebalancing\n",
    "y_before_rebalance = pd.Series(y_train).value_counts()\n",
    "y_after_rebalance = pd.Series(y_resampled).value_counts()\n",
    "with open(f'rebalancing_analysis/SMOTE_{smote_k_neighbors}.pkl', 'wb') as f:\n",
    "    pickle.dump((y_before_rebalance, y_after_rebalance), f)\n",
    "    \n",
    "print('Number of training samples after SMOTE:', len(X_resampled))\n",
    "\n",
    "# save the rebalanced data\n",
    "with open(f'new_landmark_datasets/landmark_train_resampled_256_heavy_pad_{min_pose_detection_confidence}_{min_pose_presence_confidence}_{min_tracking_confidence}.pkl', 'wb') as f:\n",
    "    pickle.dump([X_resampled, y_resampled], f)\n",
    "    \n",
    "# print statistics on class composition \n",
    "y_train_series = pd.Series(y_resampled)\n",
    "y_train_counts = y_train_series.value_counts()\n",
    "# print the median, mean, stdv, max and min of the class distribution\n",
    "print('Train class distribution after resampling')\n",
    "print(y_train_counts.describe())\n"
   ]
  },
  {
   "cell_type": "code",
   "execution_count": 43,
   "metadata": {},
   "outputs": [
    {
     "name": "stdout",
     "output_type": "stream",
     "text": [
      "Per Class Accuracy:\n",
      "Class 1.0: 0.91\n",
      "Class 2.0: 0.73\n",
      "Class 3.0: 0.00\n",
      "Class 4.0: 0.57\n",
      "Class 5.0: 0.75\n",
      "Class 6.0: 1.00\n",
      "Class 7.0: 1.00\n",
      "Class 8.0: 0.88\n",
      "Class 9.0: 0.00\n",
      "Class 10.0: 0.89\n",
      "Class 11.0: 0.89\n",
      "Class 12.0: 0.88\n",
      "Class 13.0: 0.77\n",
      "Class 14.0: 1.00\n",
      "Class 15.0: 1.00\n",
      "Class 16.0: 0.60\n",
      "Class 17.0: 0.92\n",
      "Class 18.0: 0.86\n",
      "Class 19.0: 1.00\n",
      "Class 20.0: 0.89\n",
      "Class 21.0: 0.75\n",
      "Class 22.0: 0.67\n",
      "Class 23.0: 1.00\n",
      "Class 24.0: 0.50\n",
      "Class 25.0: 0.71\n",
      "Class 26.0: 0.67\n",
      "Class 27.0: 0.73\n",
      "Class 28.0: 1.00\n",
      "Class 29.0: 0.89\n",
      "Class 30.0: 0.83\n",
      "Class 31.0: 0.94\n",
      "Class 32.0: 1.00\n",
      "Class 33.0: 0.00\n",
      "Class 34.0: 1.00\n",
      "Class 35.0: 0.60\n",
      "Class 36.0: 0.80\n",
      "Class 37.0: 0.90\n",
      "Class 38.0: 0.70\n",
      "Class 39.0: 0.75\n",
      "Class 40.0: 1.00\n",
      "Class 41.0: 0.91\n",
      "Class 42.0: 0.89\n",
      "Class 43.0: 0.81\n",
      "Class 44.0: 0.62\n",
      "Class 45.0: 0.79\n",
      "Class 46.0: 1.00\n",
      "Class 47.0: 1.00\n",
      "Class macro avg: 0.79\n",
      "Class weighted avg: 0.83\n",
      "F1 0.7659210172045874 Precision 0.77617051421231, Recall 0.7867045623904525\n"
     ]
    },
    {
     "name": "stderr",
     "output_type": "stream",
     "text": [
      "/Users/alejandraduran/opt/anaconda3/envs/cos429/lib/python3.8/site-packages/sklearn/metrics/_classification.py:1471: UndefinedMetricWarning: Precision and F-score are ill-defined and being set to 0.0 in labels with no predicted samples. Use `zero_division` parameter to control this behavior.\n",
      "  _warn_prf(average, modifier, msg_start, len(result))\n",
      "/Users/alejandraduran/opt/anaconda3/envs/cos429/lib/python3.8/site-packages/sklearn/metrics/_classification.py:1471: UndefinedMetricWarning: Precision and F-score are ill-defined and being set to 0.0 in labels with no predicted samples. Use `zero_division` parameter to control this behavior.\n",
      "  _warn_prf(average, modifier, msg_start, len(result))\n",
      "/Users/alejandraduran/opt/anaconda3/envs/cos429/lib/python3.8/site-packages/sklearn/metrics/_classification.py:1471: UndefinedMetricWarning: Precision and F-score are ill-defined and being set to 0.0 in labels with no predicted samples. Use `zero_division` parameter to control this behavior.\n",
      "  _warn_prf(average, modifier, msg_start, len(result))\n",
      "/Users/alejandraduran/opt/anaconda3/envs/cos429/lib/python3.8/site-packages/sklearn/metrics/_classification.py:1471: UndefinedMetricWarning: Precision is ill-defined and being set to 0.0 in labels with no predicted samples. Use `zero_division` parameter to control this behavior.\n",
      "  _warn_prf(average, modifier, msg_start, len(result))\n"
     ]
    }
   ],
   "source": [
    "# train RF classifier (neural net has different script)\n",
    "\n",
    "from sklearn.metrics import classification_report\n",
    "\n",
    "# train a random forest classifier\n",
    "rf = RandomForestClassifier(random_state=seed, n_estimators=300, max_depth=100)\n",
    "\n",
    "rf.fit(X_resampled, y_resampled)\n",
    "\n",
    "# save the model\n",
    "with open(f'/Users/alejandraduran/Documents/Pton_courses/COS429/COS429_final_project/trained_classifiers/rf_pad.pkl', 'wb') as f:\n",
    "    pickle.dump(rf, f)\n",
    "    \n",
    "# #load the classifier\n",
    "# with open('/Users/alejandraduran/Documents/Pton_courses/COS429/COS429_final_project/trained_classifiers/rf_pad.pkl', 'rb') as f:\n",
    "#     model = pickle.load(f)\n",
    "\n",
    "# # load the corresponding test data\n",
    "# with open(f'landmark_datasets/landmark_test_DROP_256_0.7_0.5_0.5.pkl', 'rb') as f:\n",
    "#     X_test, y_test = pickle.load(f)\n",
    "\n",
    "    \n",
    "y_pred = rf.predict(X_test)\n",
    "\n",
    "# Generate the classification report\n",
    "report = classification_report(y_test, y_pred, output_dict=True)\n",
    "\n",
    "# Extract per-class accuracy\n",
    "per_class_accuracy = {label: metrics['recall'] for label, metrics in report.items() if label != 'accuracy'}\n",
    "\n",
    "print(\"Per Class Accuracy:\")\n",
    "for label, accuracy in per_class_accuracy.items():\n",
    "    print(f\"Class {label}: {accuracy:.2f}\")\n",
    "\n",
    "f1 = f1_score(y_test, y_pred, average='macro')\n",
    "precision=precision_score(y_test, y_pred, average='macro')\n",
    "recall=recall_score(y_test, y_pred, average='macro')\n",
    "\n",
    "print(f\"F1 {f1}\", f\"Precision {precision}, Recall {recall}\")\n"
   ]
  },
  {
   "cell_type": "code",
   "execution_count": 35,
   "metadata": {},
   "outputs": [
    {
     "data": {
      "image/png": "[encoded data removed]",
      "text/plain": [
       "<Figure size 640x480 with 1 Axes>"
      ]
     },
     "metadata": {},
     "output_type": "display_data"
    }
   ],
   "source": [
    "# visualize neural net\n",
    "\n",
    "# with open('/Users/alejandraduran/Documents/Pton_courses/COS429/COS429_final_project/trained_classifiers/neural_network_best_drop2.pkl', 'rb') as f:\n",
    "#     nn = pickle.load(f)\n",
    "    \n",
    "# plot the loss\n",
    "import matplotlib.pyplot as plt\n",
    "plt.plot(nn.loss_curve_)\n",
    "plt.xlabel('Epoch')\n",
    "plt.ylabel('Loss')\n",
    "plt.title('MLPc Loss')\n",
    "plt.show()\n"
   ]
  },
  {
   "cell_type": "code",
   "execution_count": null,
   "metadata": {},
   "outputs": [],
   "source": [
    "# Visualize correct and incorrect labeled images\n",
    "\n",
    "# Assuming index_test is your array of indices\n",
    "index_test = np.array(index_test, dtype=int)\n",
    "# Ensure it is 1-dimensional\n",
    "index_test = index_test.flatten()\n",
    "# Assuming X_images is a list and index_test is your array of indices\n",
    "X_images = np.array(X_images)\n",
    "# get the test images from the split\n",
    "X_images_test = X_images[index_test]\n",
    "\n",
    "# visualize 10 correct labeled images\n",
    "correct = np.where(y_test == y_pred)[0]\n",
    "for i in correct[:10]:\n",
    "    # pass in the landmark coordinates as (landmark, xyz(v) coords)\n",
    "    annotated_image = draw_landmarks_on_image(X_images_test[i], landmark_coords=X_test[i].reshape(-1, 4))\n",
    "    cv2.imwrite(f'correct_predictions/{i}.jpg', cv2.cvtColor(annotated_image, cv2.COLOR_RGB2BGR))  \n",
    "    \n",
    "# visualize 10 incorrect labeled images\n",
    "incorrect = np.where(y_test != y_pred)[0]\n",
    "for i in incorrect[:10]:\n",
    "    annotated_image = draw_landmarks_on_image(X_images_test[i], landmark_coords=X_test[i].reshape(-1, 4))\n",
    "    cv2.imwrite(f'incorrect_predictions/{i}.jpg', cv2.cvtColor(annotated_image, cv2.COLOR_RGB2BGR))   "
   ]
  },
  {
   "cell_type": "markdown",
   "metadata": {},
   "source": []
  }
 ],
 "metadata": {
  "kernelspec": {
   "display_name": "cos429",
   "language": "python",
   "name": "python3"
  },
  "language_info": {
   "codemirror_mode": {
    "name": "ipython",
    "version": 3
   },
   "file_extension": ".py",
   "mimetype": "text/x-python",
   "name": "python",
   "nbconvert_exporter": "python",
   "pygments_lexer": "ipython3",
   "version": "3.8.20"
  }
 },
 "nbformat": 4,
 "nbformat_minor": 2
}
