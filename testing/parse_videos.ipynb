{
 "cells": [
  {
   "cell_type": "code",
   "execution_count": 7,
   "metadata": {},
   "outputs": [],
   "source": [
    "# test realtime pose CLASSIFICATION (and hence landmark detection...)\n",
    "# on our curated dataset of pose videos\n",
    "\n",
    "import sys\n",
    "sys.path.insert(0, '/Users/alejandraduran/Documents/Pton_courses/COS429/COS429_final_project/training_pipeline')\n",
    "import os\n",
    "import cv2\n",
    "import mediapipe as mp\n",
    "import pickle\n",
    "from extract_features import FeaturesMP\n",
    "import numpy as np\n",
    "import time\n",
    "from mediapipe import solutions\n",
    "from mediapipe.framework.formats import landmark_pb2\n",
    "from collections import Counter\n",
    "\n",
    "# Retrieve pre-trained model\n",
    "mp_model_path = \"/Users/alejandraduran/Documents/Pton_courses/COS429/COS429_final_project/pretrained_models/pose_landmarker_full.task\"\n",
    "# Initialize FeaturesMP object\n",
    "features_mp = FeaturesMP(mp_model_path, image_size=(1080, 1920))\n",
    "# load the label encoder\n",
    "with open('/Users/alejandraduran/Documents/Pton_courses/COS429/COS429_final_project/training_pipeline/label_encoder.pkl', 'rb') as f:    \n",
    "    label_encoder = pickle.load(f)\n",
    "\n",
    "# NOT SURE IF 7 OR 8 BUT ONE OF THOSE\n",
    "# load the trained classifier\n",
    "with open('/Users/alejandraduran/Documents/Pton_courses/COS429/COS429_final_project/trained_classifiers/padded_nn_7.pkl', 'rb') as f:\n",
    "    classifier = pickle.load(f)\n",
    "    \n",
    "# load the sanskrit to english dictionary\n",
    "with open('/Users/alejandraduran/Documents/Pton_courses/COS429/COS429_final_project/sanskrit_english_dict.pkl', 'rb') as f:\n",
    "    sanskrit_english_dict = pickle.load(f)\n",
    "\n",
    "\n",
    "# function to write demonstration videos - rest of testing function is sent in test_video.py\n",
    "\n",
    "def test_video(video_path, features_mp, label_encoder, classifier, sanskrit_english_dict):\n",
    "\n",
    "    cap = cv2.VideoCapture(video_path)\n",
    "\n",
    "    frame_rate = cap.get(cv2.CAP_PROP_FPS)\n",
    "    n = -1\n",
    "\n",
    "    # introduce delay in position predictions\n",
    "    buffer = [-1,-1,-1,-1]\n",
    "\n",
    "    label_across_frames = []\n",
    "    label_with_delays = []\n",
    "\n",
    "    # Initialize detector\n",
    "    features_mp.init_detector(video=True, min_pose_detection_confidence=0.7)\n",
    "\n",
    "    # Create a loop to read the latest frame from the camera\n",
    "    while cap.isOpened():\n",
    "        ret, frame = cap.read()\n",
    "        \n",
    "        if not ret:\n",
    "            print(\"Error: Unable to fetch the frame or finished the video.\")\n",
    "            break\n",
    "        \n",
    "        # new frame\n",
    "        n+=1\n",
    "        # get timestamp from frame rate\n",
    "        timestamp = int(n * 1000 / frame_rate)\n",
    "\n",
    "        # Run inference on the image \n",
    "        landmarks = features_mp.detect(frame, video=True, frame_timestamp_ms=timestamp)\n",
    "        \n",
    "        # Draw landmarks if detected\n",
    "        if landmarks is not None:\n",
    "            if len(landmarks.pose_landmarks) != 0:\n",
    "                \n",
    "                pose_landmarks_list = landmarks.pose_landmarks \n",
    "\n",
    "                # get only normalized coordinates - improves latency\n",
    "                pose_landmarks = pose_landmarks_list[0]\n",
    "\n",
    "                to_classify = np.zeros((features_mp.n_landmarks, 4))\n",
    "                to_extend = []\n",
    "                \n",
    "                # store normalized landmarks to appends and classify\n",
    "                for k, landmark in enumerate(pose_landmarks):\n",
    "                    to_classify[k] = [landmark.x, landmark.y, landmark.z, landmark.visibility]\n",
    "                    \n",
    "                # normalize and rotate to_classify\n",
    "                to_classify = features_mp.make_rot_invariant_partial(to_classify, init_norm=True)\n",
    "                to_classify = to_classify.reshape(1, features_mp.n_landmarks * 4)\n",
    "                    \n",
    "                # Run inference\n",
    "                predicted_class = classifier.predict(to_classify)\n",
    "                # Get the string label\n",
    "                predicted_name = label_encoder.inverse_transform([int(predicted_class-1)])\n",
    "                english = sanskrit_english_dict[predicted_name[0]]\n",
    "                label_across_frames.append(english)\n",
    "                # Append to buffer\n",
    "                buffer.pop(0)\n",
    "                buffer.append(predicted_name[0])\n",
    "                # # if all elements now in the buffer are the same, then we can display the pose\n",
    "                if buffer[0] == buffer[1] == buffer[2] == buffer[3]:\n",
    "                    text = english\n",
    "                    label_with_delays.append(english)\n",
    "\n",
    "    # Release resources\n",
    "    cap.release()\n",
    "    # out.release()\n",
    "    cv2.destroyAllWindows()\n",
    "    \n",
    "    return label_across_frames, label_with_delays\n"
   ]
  },
  {
   "cell_type": "code",
   "execution_count": 9,
   "metadata": {},
   "outputs": [
    {
     "name": "stderr",
     "output_type": "stream",
     "text": [
      "I0000 00:00:1733956777.162145 94905900 gl_context.cc:357] GL version: 2.1 (2.1 Metal - 86), renderer: Apple M1\n"
     ]
    },
    {
     "name": "stdout",
     "output_type": "stream",
     "text": [
      "Error: Unable to fetch the frame or finished the video.\n"
     ]
    },
    {
     "name": "stderr",
     "output_type": "stream",
     "text": [
      "I0000 00:00:1733956793.779411 94905900 gl_context.cc:357] GL version: 2.1 (2.1 Metal - 86), renderer: Apple M1\n"
     ]
    },
    {
     "name": "stdout",
     "output_type": "stream",
     "text": [
      "Error: Unable to fetch the frame or finished the video.\n"
     ]
    },
    {
     "name": "stderr",
     "output_type": "stream",
     "text": [
      "I0000 00:00:1733956801.200516 94905900 gl_context.cc:357] GL version: 2.1 (2.1 Metal - 86), renderer: Apple M1\n"
     ]
    },
    {
     "ename": "KeyboardInterrupt",
     "evalue": "",
     "output_type": "error",
     "traceback": [
      "\u001b[0;31m---------------------------------------------------------------------------\u001b[0m",
      "\u001b[0;31mKeyboardInterrupt\u001b[0m                         Traceback (most recent call last)",
      "Cell \u001b[0;32mIn[9], line 15\u001b[0m\n\u001b[1;32m     13\u001b[0m     \u001b[38;5;28;01mcontinue\u001b[39;00m  \u001b[38;5;66;03m# Skip non-video files\u001b[39;00m\n\u001b[1;32m     14\u001b[0m video_path \u001b[38;5;241m=\u001b[39m os\u001b[38;5;241m.\u001b[39mpath\u001b[38;5;241m.\u001b[39mjoin(dirname, filename)\n\u001b[0;32m---> 15\u001b[0m label_across_frames, label_with_delays \u001b[38;5;241m=\u001b[39m \u001b[43mtest_video\u001b[49m\u001b[43m(\u001b[49m\u001b[43mvideo_path\u001b[49m\u001b[43m,\u001b[49m\u001b[43m \u001b[49m\u001b[43mfeatures_mp\u001b[49m\u001b[43m,\u001b[49m\u001b[43m \u001b[49m\u001b[43mlabel_encoder\u001b[49m\u001b[43m,\u001b[49m\u001b[43m \u001b[49m\u001b[43mclassifier\u001b[49m\u001b[43m,\u001b[49m\u001b[43m \u001b[49m\u001b[43msanskrit_english_dict\u001b[49m\u001b[43m)\u001b[49m\n\u001b[1;32m     16\u001b[0m label_accross_frames_list\u001b[38;5;241m.\u001b[39mappend(label_across_frames)\n\u001b[1;32m     17\u001b[0m label_with_delays_list\u001b[38;5;241m.\u001b[39mappend(label_with_delays)\n",
      "Cell \u001b[0;32mIn[7], line 67\u001b[0m, in \u001b[0;36mtest_video\u001b[0;34m(video_path, features_mp, label_encoder, classifier, sanskrit_english_dict)\u001b[0m\n\u001b[1;32m     64\u001b[0m timestamp \u001b[38;5;241m=\u001b[39m \u001b[38;5;28mint\u001b[39m(n \u001b[38;5;241m*\u001b[39m \u001b[38;5;241m1000\u001b[39m \u001b[38;5;241m/\u001b[39m frame_rate)\n\u001b[1;32m     66\u001b[0m \u001b[38;5;66;03m# Run inference on the image \u001b[39;00m\n\u001b[0;32m---> 67\u001b[0m landmarks \u001b[38;5;241m=\u001b[39m \u001b[43mfeatures_mp\u001b[49m\u001b[38;5;241;43m.\u001b[39;49m\u001b[43mdetect\u001b[49m\u001b[43m(\u001b[49m\u001b[43mframe\u001b[49m\u001b[43m,\u001b[49m\u001b[43m \u001b[49m\u001b[43mvideo\u001b[49m\u001b[38;5;241;43m=\u001b[39;49m\u001b[38;5;28;43;01mTrue\u001b[39;49;00m\u001b[43m,\u001b[49m\u001b[43m \u001b[49m\u001b[43mframe_timestamp_ms\u001b[49m\u001b[38;5;241;43m=\u001b[39;49m\u001b[43mtimestamp\u001b[49m\u001b[43m)\u001b[49m\n\u001b[1;32m     69\u001b[0m \u001b[38;5;66;03m# Draw landmarks if detected\u001b[39;00m\n\u001b[1;32m     70\u001b[0m \u001b[38;5;28;01mif\u001b[39;00m landmarks \u001b[38;5;129;01mis\u001b[39;00m \u001b[38;5;129;01mnot\u001b[39;00m \u001b[38;5;28;01mNone\u001b[39;00m:\n",
      "File \u001b[0;32m~/Documents/Pton_courses/COS429/COS429_final_project/training_pipeline/extract_features.py:119\u001b[0m, in \u001b[0;36mFeaturesMP.detect\u001b[0;34m(self, frame, video, live_stream, frame_timestamp_ms, double)\u001b[0m\n\u001b[1;32m    116\u001b[0m mp_image \u001b[38;5;241m=\u001b[39m mp\u001b[38;5;241m.\u001b[39mImage(image_format\u001b[38;5;241m=\u001b[39mmp\u001b[38;5;241m.\u001b[39mImageFormat\u001b[38;5;241m.\u001b[39mSRGB, data\u001b[38;5;241m=\u001b[39mframe)\n\u001b[1;32m    118\u001b[0m \u001b[38;5;28;01mif\u001b[39;00m video:\n\u001b[0;32m--> 119\u001b[0m     \u001b[38;5;28;01mreturn\u001b[39;00m \u001b[38;5;28;43mself\u001b[39;49m\u001b[38;5;241;43m.\u001b[39;49m\u001b[43mdetector\u001b[49m\u001b[38;5;241;43m.\u001b[39;49m\u001b[43mdetect_for_video\u001b[49m\u001b[43m(\u001b[49m\u001b[43mmp_image\u001b[49m\u001b[43m,\u001b[49m\u001b[43m \u001b[49m\u001b[43mframe_timestamp_ms\u001b[49m\u001b[43m)\u001b[49m\n\u001b[1;32m    121\u001b[0m \u001b[38;5;28;01melif\u001b[39;00m live_stream:\n\u001b[1;32m    122\u001b[0m     \u001b[38;5;28;01mif\u001b[39;00m double:\n",
      "File \u001b[0;32m~/opt/anaconda3/envs/cos429/lib/python3.8/site-packages/mediapipe/tasks/python/vision/pose_landmarker.py:395\u001b[0m, in \u001b[0;36mPoseLandmarker.detect_for_video\u001b[0;34m(self, image, timestamp_ms, image_processing_options)\u001b[0m\n\u001b[1;32m    370\u001b[0m \u001b[38;5;250m\u001b[39m\u001b[38;5;124;03m\"\"\"Performs pose landmarks detection on the provided video frame.\u001b[39;00m\n\u001b[1;32m    371\u001b[0m \n\u001b[1;32m    372\u001b[0m \u001b[38;5;124;03mOnly use this method when the PoseLandmarker is created with the video\u001b[39;00m\n\u001b[0;32m   (...)\u001b[0m\n\u001b[1;32m    390\u001b[0m \u001b[38;5;124;03m  RuntimeError: If pose landmarker detection failed to run.\u001b[39;00m\n\u001b[1;32m    391\u001b[0m \u001b[38;5;124;03m\"\"\"\u001b[39;00m\n\u001b[1;32m    392\u001b[0m normalized_rect \u001b[38;5;241m=\u001b[39m \u001b[38;5;28mself\u001b[39m\u001b[38;5;241m.\u001b[39mconvert_to_normalized_rect(\n\u001b[1;32m    393\u001b[0m     image_processing_options, image, roi_allowed\u001b[38;5;241m=\u001b[39m\u001b[38;5;28;01mFalse\u001b[39;00m\n\u001b[1;32m    394\u001b[0m )\n\u001b[0;32m--> 395\u001b[0m output_packets \u001b[38;5;241m=\u001b[39m \u001b[38;5;28;43mself\u001b[39;49m\u001b[38;5;241;43m.\u001b[39;49m\u001b[43m_process_video_data\u001b[49m\u001b[43m(\u001b[49m\u001b[43m{\u001b[49m\n\u001b[1;32m    396\u001b[0m \u001b[43m    \u001b[49m\u001b[43m_IMAGE_IN_STREAM_NAME\u001b[49m\u001b[43m:\u001b[49m\u001b[43m \u001b[49m\u001b[43mpacket_creator\u001b[49m\u001b[38;5;241;43m.\u001b[39;49m\u001b[43mcreate_image\u001b[49m\u001b[43m(\u001b[49m\u001b[43mimage\u001b[49m\u001b[43m)\u001b[49m\u001b[38;5;241;43m.\u001b[39;49m\u001b[43mat\u001b[49m\u001b[43m(\u001b[49m\n\u001b[1;32m    397\u001b[0m \u001b[43m        \u001b[49m\u001b[43mtimestamp_ms\u001b[49m\u001b[43m \u001b[49m\u001b[38;5;241;43m*\u001b[39;49m\u001b[43m \u001b[49m\u001b[43m_MICRO_SECONDS_PER_MILLISECOND\u001b[49m\n\u001b[1;32m    398\u001b[0m \u001b[43m    \u001b[49m\u001b[43m)\u001b[49m\u001b[43m,\u001b[49m\n\u001b[1;32m    399\u001b[0m \u001b[43m    \u001b[49m\u001b[43m_NORM_RECT_STREAM_NAME\u001b[49m\u001b[43m:\u001b[49m\u001b[43m \u001b[49m\u001b[43mpacket_creator\u001b[49m\u001b[38;5;241;43m.\u001b[39;49m\u001b[43mcreate_proto\u001b[49m\u001b[43m(\u001b[49m\n\u001b[1;32m    400\u001b[0m \u001b[43m        \u001b[49m\u001b[43mnormalized_rect\u001b[49m\u001b[38;5;241;43m.\u001b[39;49m\u001b[43mto_pb2\u001b[49m\u001b[43m(\u001b[49m\u001b[43m)\u001b[49m\n\u001b[1;32m    401\u001b[0m \u001b[43m    \u001b[49m\u001b[43m)\u001b[49m\u001b[38;5;241;43m.\u001b[39;49m\u001b[43mat\u001b[49m\u001b[43m(\u001b[49m\u001b[43mtimestamp_ms\u001b[49m\u001b[43m \u001b[49m\u001b[38;5;241;43m*\u001b[39;49m\u001b[43m \u001b[49m\u001b[43m_MICRO_SECONDS_PER_MILLISECOND\u001b[49m\u001b[43m)\u001b[49m\u001b[43m,\u001b[49m\n\u001b[1;32m    402\u001b[0m \u001b[43m\u001b[49m\u001b[43m}\u001b[49m\u001b[43m)\u001b[49m\n\u001b[1;32m    404\u001b[0m \u001b[38;5;28;01mif\u001b[39;00m output_packets[_NORM_LANDMARKS_STREAM_NAME]\u001b[38;5;241m.\u001b[39mis_empty():\n\u001b[1;32m    405\u001b[0m   \u001b[38;5;28;01mreturn\u001b[39;00m PoseLandmarkerResult([], [])\n",
      "File \u001b[0;32m~/opt/anaconda3/envs/cos429/lib/python3.8/site-packages/mediapipe/tasks/python/vision/core/base_vision_task_api.py:119\u001b[0m, in \u001b[0;36mBaseVisionTaskApi._process_video_data\u001b[0;34m(self, inputs)\u001b[0m\n\u001b[1;32m    114\u001b[0m \u001b[38;5;28;01mif\u001b[39;00m \u001b[38;5;28mself\u001b[39m\u001b[38;5;241m.\u001b[39m_running_mode \u001b[38;5;241m!=\u001b[39m _RunningMode\u001b[38;5;241m.\u001b[39mVIDEO:\n\u001b[1;32m    115\u001b[0m   \u001b[38;5;28;01mraise\u001b[39;00m \u001b[38;5;167;01mValueError\u001b[39;00m(\n\u001b[1;32m    116\u001b[0m       \u001b[38;5;124m'\u001b[39m\u001b[38;5;124mTask is not initialized with the video mode. Current running mode:\u001b[39m\u001b[38;5;124m'\u001b[39m\n\u001b[1;32m    117\u001b[0m       \u001b[38;5;241m+\u001b[39m \u001b[38;5;28mself\u001b[39m\u001b[38;5;241m.\u001b[39m_running_mode\u001b[38;5;241m.\u001b[39mname\n\u001b[1;32m    118\u001b[0m   )\n\u001b[0;32m--> 119\u001b[0m \u001b[38;5;28;01mreturn\u001b[39;00m \u001b[38;5;28;43mself\u001b[39;49m\u001b[38;5;241;43m.\u001b[39;49m\u001b[43m_runner\u001b[49m\u001b[38;5;241;43m.\u001b[39;49m\u001b[43mprocess\u001b[49m\u001b[43m(\u001b[49m\u001b[43minputs\u001b[49m\u001b[43m)\u001b[49m\n",
      "\u001b[0;31mKeyboardInterrupt\u001b[0m: "
     ]
    }
   ],
   "source": [
    "\n",
    "# MISSING ARDHA MATS, ardha pincha, ashta chandra\n",
    "\n",
    "testing_now = ['Adho Mukha Svanasana', 'Adho Mukha Vrksasana', 'Anjaneyasana', 'Ardha Navasana','Baddha Konasana']\n",
    "    \n",
    "for pose in testing_now:\n",
    "    label_accross_frames_list = []\n",
    "    label_with_delays_list = []\n",
    "    directory_path = f\"/Users/alejandraduran/Documents/Pton_courses/COS429/video_data/{pose}\"\n",
    "    # iterate over the videos of the directory\n",
    "    for dirname, _, filenames in os.walk(directory_path):\n",
    "        for filename in filenames:\n",
    "            if not filename.endswith(('.mp4', '.avi')):  # Only process video files\n",
    "                continue  # Skip non-video files\n",
    "            video_path = os.path.join(dirname, filename)\n",
    "            label_across_frames, label_with_delays = test_video(video_path, features_mp, label_encoder, classifier, sanskrit_english_dict)\n",
    "            label_accross_frames_list.append(label_across_frames)\n",
    "            label_with_delays_list.append(label_with_delays)\n",
    "            \n",
    "    # save the multi-video results for each pose\n",
    "    with open(f'/Users/alejandraduran/Documents/Pton_courses/COS429/COS429_final_project/testing/metrics/{pose}_label_across_frames.pkl', 'wb') as f:\n",
    "        pickle.dump(label_accross_frames_list, f)\n",
    "    with open(f'/Users/alejandraduran/Documents/Pton_courses/COS429/COS429_final_project/testing/metrics/{pose}_label_with_delays.pkl', 'wb') as f:\n",
    "        pickle.dump(label_with_delays_list, f) \n",
    "        \n",
    "    # run in cluster\n",
    "            "
   ]
  },
  {
   "cell_type": "code",
   "execution_count": 3,
   "metadata": {},
   "outputs": [
    {
     "name": "stdout",
     "output_type": "stream",
     "text": [
      "Counts for label_accross_frames_list:\n",
      "Counter({'Downward-facing dog': 4234, 'Crow': 2156, 'Extended Side Angle': 297, 'Pyramid': 177, 'Corpse': 119, 'Pigeon': 52, 'Triangle': 46, 'Warrior III': 40, 'Half-Moon': 20, 'Wild Thing': 18, 'Plank': 13, 'High Lunge': 13, 'Cat': 12, 'Squat': 12, 'Reverse Warrior': 9, 'Sphinx': 6, 'Tree': 5, 'Butterfly': 3, 'Chair': 2})\n",
      "Counts for label_with_delays_list:\n",
      "Counter({'Downward-facing dog': 4163, 'Crow': 2066, 'Extended Side Angle': 185, 'Pyramid': 168, 'Corpse': 85, 'Pigeon': 35, 'Triangle': 20, 'Warrior III': 10, 'Cat': 9, 'Squat': 9, 'Plank': 4, 'Tree': 2, 'Wild Thing': 2, 'Half-Moon': 1})\n"
     ]
    }
   ],
   "source": [
    "# Flatten the list of lists\n",
    "flattened_list_accross_frames = [item for sublist in label_accross_frames_list for item in sublist]\n",
    "flattened_list_with_delays = [item for sublist in label_with_delays_list for item in sublist]\n",
    "\n",
    "# Count unique terms\n",
    "counter_accross_frames = Counter(flattened_list_accross_frames)\n",
    "counter_with_delays = Counter(flattened_list_with_delays)\n",
    "\n",
    "# Print the counts\n",
    "print(\"Counts for label_accross_frames_list:\")\n",
    "print(counter_accross_frames)\n",
    "\n",
    "print(\"Counts for label_with_delays_list:\")\n",
    "print(counter_with_delays)"
   ]
  }
 ],
 "metadata": {
  "kernelspec": {
   "display_name": "cos429",
   "language": "python",
   "name": "python3"
  },
  "language_info": {
   "codemirror_mode": {
    "name": "ipython",
    "version": 3
   },
   "file_extension": ".py",
   "mimetype": "text/x-python",
   "name": "python",
   "nbconvert_exporter": "python",
   "pygments_lexer": "ipython3",
   "version": "3.8.20"
  }
 },
 "nbformat": 4,
 "nbformat_minor": 2
}
