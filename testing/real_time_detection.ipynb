{
 "cells": [
  {
   "cell_type": "markdown",
   "metadata": {},
   "source": [
    "### Analyze how the detection and classification do on pre-labeled videos\n",
    "\n",
    "* We curated the data manually\n",
    "* Set out to test on videos after reasonable optimization trying out the real time (live stream) for ouselves"
   ]
  },
  {
   "cell_type": "code",
   "execution_count": 1,
   "metadata": {},
   "outputs": [],
   "source": [
    "import sys\n",
    "sys.path.insert(0, '/Users/alejandraduran/Documents/Pton_courses/COS429/COS429_final_project/training_pipeline')\n",
    "\n",
    "import cv2\n",
    "import mediapipe as mp\n",
    "import pickle\n",
    "from extract_features import FeaturesMP\n",
    "import numpy as np\n",
    "import time\n",
    "from mediapipe import solutions\n",
    "from mediapipe.framework.formats import landmark_pb2\n",
    "from IPython.display import Video, display"
   ]
  },
  {
   "cell_type": "code",
   "execution_count": 2,
   "metadata": {},
   "outputs": [],
   "source": [
    "# Retrieve pre-trained model\n",
    "mp_model_path = \"/Users/alejandraduran/Documents/Pton_courses/COS429/COS429_final_project/pretrained_models/pose_landmarker_full.task\"\n",
    "# Initialize FeaturesMP object\n",
    "features_mp = FeaturesMP(mp_model_path, image_size=(1080, 1920))\n",
    "# load the label encoder\n",
    "with open('/Users/alejandraduran/Documents/Pton_courses/COS429/COS429_final_project/training_pipeline/label_encoder.pkl', 'rb') as f:    \n",
    "    label_encoder = pickle.load(f)\n",
    "\n",
    "# load the trained classifier\n",
    "with open('/Users/alejandraduran/Documents/Pton_courses/COS429/COS429_final_project/trained_classifiers/padded_nn_7.pkl', 'rb') as f:\n",
    "    classifier = pickle.load(f)\n",
    "    \n",
    "# load the sanskrit to english dictionary\n",
    "with open('/Users/alejandraduran/Documents/Pton_courses/COS429/COS429_final_project/sanskrit_english_dict.pkl', 'rb') as f:\n",
    "    sanskrit_english_dict = pickle.load(f)\n",
    "    \n",
    "# introduce delay in position predictions\n",
    "buffer = [-1,-1,-1,-1]\n",
    "\n",
    "# Define text properties\n",
    "font = cv2.FONT_HERSHEY_SIMPLEX\n",
    "font_scale = 3\n",
    "font_thickness = 4\n",
    "text_color = (0,0,0)  # White color\n",
    "bg_color = (0, 0, 0)  # Black color for background rectangle\n",
    "bg_opacity = 0.6  # Background opacity\n",
    "coords = (50, 100)  # Coordinates to display the text\n",
    "text = \"Starting pose detection...\""
   ]
  },
  {
   "cell_type": "code",
   "execution_count": 3,
   "metadata": {},
   "outputs": [
    {
     "name": "stderr",
     "output_type": "stream",
     "text": [
      "WARNING: All log messages before absl::InitializeLog() is called are written to STDERR\n",
      "I0000 00:00:1734013578.863662 11626249 gl_context.cc:357] GL version: 2.1 (2.1 Metal - 86), renderer: Apple M1\n",
      "INFO: Created TensorFlow Lite XNNPACK delegate for CPU.\n"
     ]
    },
    {
     "name": "stdout",
     "output_type": "stream",
     "text": [
      "Error: Unable to fetch the frame or finished the video.\n"
     ]
    }
   ],
   "source": [
    "# function to write demonstration videos - rest of testing function is sent in test_video.py\n",
    "\n",
    "# Load a video\n",
    "video_path = \"/Users/alejandraduran/Documents/Pton_courses/COS429/video_data/Ardha Matsyendrasana/4.mp4\"\n",
    "cap = cv2.VideoCapture(video_path)\n",
    "\n",
    "frame_rate = cap.get(cv2.CAP_PROP_FPS)\n",
    "frame_width = int(cap.get(cv2.CAP_PROP_FRAME_WIDTH))\n",
    "frame_height = int(cap.get(cv2.CAP_PROP_FRAME_HEIGHT))\n",
    "output_path = 'king_pigeon.mp4'\n",
    "n = -1\n",
    "\n",
    "# # Define the codec and create VideoWriter object\n",
    "# fourcc = cv2.VideoWriter_fourcc(*'mp4v')\n",
    "# out = cv2.VideoWriter(output_path, fourcc, frame_rate, (frame_width, frame_height))\n",
    "\n",
    "label_across_frames = []\n",
    "label_with_delays = []\n",
    "\n",
    "# Initialize detector\n",
    "features_mp.init_detector(video=True, min_pose_detection_confidence=0.7)\n",
    "\n",
    "# Create a loop to read the latest frame from the camera\n",
    "while cap.isOpened():\n",
    "    ret, frame = cap.read()\n",
    "    \n",
    "    if not ret:\n",
    "        print(\"Error: Unable to fetch the frame or finished the video.\")\n",
    "        break\n",
    "    \n",
    "    # new frame\n",
    "    n+=1\n",
    "    # get timestamp from frame rate\n",
    "    timestamp = int(n * 1000 / frame_rate)\n",
    "\n",
    "    # Run inference on the image \n",
    "    # uncomment if double: landmarks_draw, landmarks = features_mp.detect(frame, live_stream=True, frame_timestamp_ms=timestamp, double=True)\n",
    "    landmarks = features_mp.detect(frame, video=True, frame_timestamp_ms=timestamp)\n",
    "    \n",
    "    # Draw landmarks if detected\n",
    "    if landmarks is not None: # uncomment if double: and landmarks_draw is not None:  \n",
    "        if len(landmarks.pose_landmarks) != 0: # uncomment if double: and len(landmarks_draw.pose_landmarks) != 0:\n",
    "            \n",
    "            pose_landmarks_list = landmarks.pose_landmarks \n",
    "            # uncomment if double: pose_landmarks_draw_list = landmarks_draw.pose_landmarks\n",
    "\n",
    "            # get only normalized coordinates - improves latency\n",
    "            pose_landmarks = pose_landmarks_list[0]\n",
    "            # uncomment if double: pose_landmarks_draw = pose_landmarks_draw_list[0]\n",
    "            \n",
    "            # Draw the pose landmarks.\n",
    "            pose_landmarks_proto = landmark_pb2.NormalizedLandmarkList()\n",
    "            to_classify = np.zeros((features_mp.n_landmarks, 4))\n",
    "            to_extend = []\n",
    "            \n",
    "            # store normalized landmarks to appends and classify\n",
    "            for k, landmark in enumerate(pose_landmarks):\n",
    "                # uncomment if double: to_extend.append(landmark_pb2.NormalizedLandmark(x=pose_landmarks_draw[k].x, y=pose_landmarks_draw[k].y, z=pose_landmarks_draw[k].z))\n",
    "                to_extend.append(landmark_pb2.NormalizedLandmark(x=landmark.x,y=landmark.y, z=landmark.z))\n",
    "                # store in an array\n",
    "                to_classify[k] = [landmark.x, landmark.y, landmark.z, landmark.visibility]\n",
    "                \n",
    "            # normalize and rotate to_classify\n",
    "            to_classify = features_mp.make_rot_invariant_partial(to_classify, init_norm=True)\n",
    "            to_classify = to_classify.reshape(1, features_mp.n_landmarks * 4)\n",
    "            \n",
    "            # draw real-time landmarks\n",
    "            pose_landmarks_proto.landmark.extend(to_extend)\n",
    "            solutions.drawing_utils.draw_landmarks(\n",
    "                frame,\n",
    "                pose_landmarks_proto,\n",
    "                solutions.pose.POSE_CONNECTIONS,\n",
    "                solutions.drawing_styles.get_default_pose_landmarks_style())\n",
    "                \n",
    "            # Run inference\n",
    "            predicted_class = classifier.predict(to_classify)\n",
    "            # Get the string label\n",
    "            predicted_name = label_encoder.inverse_transform([int(predicted_class-1)])\n",
    "            english = sanskrit_english_dict[predicted_name[0]]\n",
    "            label_across_frames.append(english)\n",
    "            # Append to buffer\n",
    "            buffer.pop(0)\n",
    "            buffer.append(predicted_name[0])\n",
    "            # # if all elements now in the buffer are the same, then we can display the pose\n",
    "            if buffer[0] == buffer[1] == buffer[2] == buffer[3]:\n",
    "                text = english\n",
    "                label_with_delays.append(english)\n",
    "\n",
    "            cv2.putText(frame, text, coords, font, font_scale, text_color, font_thickness, cv2.LINE_AA)     \n",
    "            \n",
    "    # # Write the frame to the output video\n",
    "    # out.write(frame)\n",
    "    \n",
    "    # # delay for rendered\n",
    "    # if cv2.waitKey(1):\n",
    "    #     break\n",
    "    \n",
    "    # Display the output\n",
    "    cv2.imshow('Video Testing', frame)\n",
    "    \n",
    "    # Add a delay to allow OpenCV to render the frame\n",
    "    if cv2.waitKey(1) & 0xFF == ord('q'):\n",
    "        break\n",
    "\n",
    "# Release resources\n",
    "cap.release()\n",
    "# out.release()\n",
    "cv2.destroyAllWindows()\n",
    "\n",
    "# Display the video in the notebook\n",
    "# display(Video(output_path, embed=True))\n"
   ]
  },
  {
   "cell_type": "code",
   "execution_count": 4,
   "metadata": {},
   "outputs": [
    {
     "name": "stdout",
     "output_type": "stream",
     "text": [
      "Mode all: Extended Hand to Toe, Mode delay: Extended Hand to Toe\n"
     ]
    },
    {
     "ename": "",
     "evalue": "",
     "output_type": "error",
     "traceback": [
      "\u001b[1;31mThe Kernel crashed while executing code in the the current cell or a previous cell. Please review the code in the cell(s) to identify a possible cause of the failure. Click <a href='https://aka.ms/vscodeJupyterKernelCrash'>here</a> for more info. View Jupyter <a href='command:jupyter.viewOutput'>log</a> for further details."
     ]
    }
   ],
   "source": [
    "# this video was Eka Pada Rajakapotasana - example of a good, robust classification\n",
    "\n",
    "# get the most common label in label_across_frames\n",
    "\n",
    "from collections import Counter\n",
    "\n",
    "mode_all = Counter(label_across_frames).most_common(1)[0][0]\n",
    "mode_delay = Counter(label_with_delays).most_common(1)[0][0]\n",
    "print(f'Mode all: {mode_all}, Mode delay: {mode_delay}')"
   ]
  }
 ],
 "metadata": {
  "kernelspec": {
   "display_name": "cos429",
   "language": "python",
   "name": "python3"
  },
  "language_info": {
   "codemirror_mode": {
    "name": "ipython",
    "version": 3
   },
   "file_extension": ".py",
   "mimetype": "text/x-python",
   "name": "python",
   "nbconvert_exporter": "python",
   "pygments_lexer": "ipython3",
   "version": "3.8.20"
  }
 },
 "nbformat": 4,
 "nbformat_minor": 2
}
